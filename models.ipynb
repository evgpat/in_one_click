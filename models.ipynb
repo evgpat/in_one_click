{
  "metadata": {
    "kernelspec": {
      "language": "python",
      "display_name": "Python 3",
      "name": "python3"
    },
    "language_info": {
      "name": "python",
      "version": "3.10.13",
      "mimetype": "text/x-python",
      "codemirror_mode": {
        "name": "ipython",
        "version": 3
      },
      "pygments_lexer": "ipython3",
      "nbconvert_exporter": "python",
      "file_extension": ".py"
    },
    "kaggle": {
      "accelerator": "none",
      "dataSources": [
        {
          "sourceId": 7524063,
          "sourceType": "datasetVersion",
          "datasetId": 4382847
        }
      ],
      "dockerImageVersionId": 30646,
      "isInternetEnabled": true,
      "language": "python",
      "sourceType": "notebook",
      "isGpuEnabled": false
    },
    "colab": {
      "name": "practicum_sprint_10_project_1",
      "provenance": []
    }
  },
  "nbformat_minor": 0,
  "nbformat": 4,
  "cells": [
    {
      "cell_type": "markdown",
      "source": [
        "## Описание проекта\n",
        "Интернет-магазин «В один клик» продаёт разные товары: для детей, для дома, мелкую бытовую технику, косметику и даже продукты. Отчёт магазина за прошлый период показал, что активность покупателей начала снижаться. Привлекать новых клиентов уже не так эффективно: о магазине и так знает большая часть целевой аудитории. Возможный выход — удерживать активность постоянных клиентов. Сделать это можно с помощью персонализированных предложений."
      ],
      "metadata": {
        "id": "JcAA5xu0vlBz"
      }
    },
    {
      "cell_type": "markdown",
      "source": [
        "## Импорт библиотек"
      ],
      "metadata": {
        "id": "MLcMOVKmvlB1"
      }
    },
    {
      "cell_type": "code",
      "source": [
        "import pandas as pd\n",
        "import matplotlib.pyplot as plt\n",
        "import seaborn as sns\n",
        "import numpy as np\n",
        "import warnings\n",
        "import shap\n",
        "\n",
        "from sklearn.model_selection import train_test_split\n",
        "from sklearn.metrics import accuracy_score\n",
        "from sklearn.pipeline import Pipeline\n",
        "from sklearn.compose import ColumnTransformer\n",
        "from sklearn.preprocessing import OneHotEncoder, OrdinalEncoder, StandardScaler, MinMaxScaler, LabelEncoder\n",
        "from sklearn.impute import SimpleImputer\n",
        "from phik.report import plot_correlation_matrix\n",
        "from phik import phik_matrix\n",
        "\n",
        "warnings.filterwarnings(\"ignore\", category=FutureWarning)\n",
        "\n",
        "# загружаем нужные модели\n",
        "from sklearn.linear_model import LogisticRegression\n",
        "from sklearn.neighbors import KNeighborsClassifier\n",
        "from sklearn.tree import DecisionTreeClassifier\n",
        "from sklearn.svm import SVC\n",
        "\n",
        "# загружаем функцию для работы с метриками\n",
        "from sklearn.metrics import roc_auc_score\n",
        "\n",
        "from sklearn.model_selection import RandomizedSearchCV, GridSearchCV"
      ],
      "metadata": {
        "execution": {
          "iopub.status.busy": "2024-02-07T21:28:09.792468Z",
          "iopub.execute_input": "2024-02-07T21:28:09.792904Z",
          "iopub.status.idle": "2024-02-07T21:28:09.803566Z",
          "shell.execute_reply.started": "2024-02-07T21:28:09.792869Z",
          "shell.execute_reply": "2024-02-07T21:28:09.802327Z"
        },
        "trusted": true,
        "id": "9RMpptgvvlB1"
      },
      "execution_count": null,
      "outputs": []
    },
    {
      "cell_type": "markdown",
      "source": [
        "## Константы"
      ],
      "metadata": {
        "id": "ZmlTAjKvvlB2"
      }
    },
    {
      "cell_type": "code",
      "source": [
        "RANDOM_STATE = 42\n",
        "TEST_SIZE = 0.25"
      ],
      "metadata": {
        "execution": {
          "iopub.status.busy": "2024-02-07T21:28:09.809388Z",
          "iopub.execute_input": "2024-02-07T21:28:09.809784Z",
          "iopub.status.idle": "2024-02-07T21:28:09.832572Z",
          "shell.execute_reply.started": "2024-02-07T21:28:09.809752Z",
          "shell.execute_reply": "2024-02-07T21:28:09.831382Z"
        },
        "trusted": true,
        "id": "tsNynkncvlB2"
      },
      "execution_count": null,
      "outputs": []
    },
    {
      "cell_type": "markdown",
      "source": [
        "## Шаг 1. Загрузка данных"
      ],
      "metadata": {
        "id": "EcZ4-eTnvlB2"
      }
    },
    {
      "cell_type": "markdown",
      "source": [
        "- *1.1 Загрузите данные.*\n",
        "- *1.2 Проверьте, что данные в таблицах соответствуют описанию. Исследованием и объединением данных вы займётесь позже.*"
      ],
      "metadata": {
        "id": "TPKv80uKvlB2"
      }
    },
    {
      "cell_type": "code",
      "source": [
        "market_file = pd.read_csv('/kaggle/input/market/market_file.csv')\n",
        "market_money = pd.read_csv('/kaggle/input/market/market_money.csv')\n",
        "market_time = pd.read_csv('/kaggle/input/market/market_time.csv')\n",
        "money = pd.read_csv('/kaggle/input/market/money.csv', sep=\";\", decimal=\",\")"
      ],
      "metadata": {
        "execution": {
          "iopub.status.busy": "2024-02-07T21:28:09.835392Z",
          "iopub.execute_input": "2024-02-07T21:28:09.835835Z",
          "iopub.status.idle": "2024-02-07T21:28:09.881152Z",
          "shell.execute_reply.started": "2024-02-07T21:28:09.835798Z",
          "shell.execute_reply": "2024-02-07T21:28:09.880038Z"
        },
        "trusted": true,
        "id": "_NY8J5jZvlB2"
      },
      "execution_count": null,
      "outputs": []
    },
    {
      "cell_type": "code",
      "source": [
        "market_file.head()"
      ],
      "metadata": {
        "execution": {
          "iopub.status.busy": "2024-02-07T21:28:09.882798Z",
          "iopub.execute_input": "2024-02-07T21:28:09.883452Z",
          "iopub.status.idle": "2024-02-07T21:28:09.904587Z",
          "shell.execute_reply.started": "2024-02-07T21:28:09.883414Z",
          "shell.execute_reply": "2024-02-07T21:28:09.903519Z"
        },
        "trusted": true,
        "id": "DoDpugOmvlB3"
      },
      "execution_count": null,
      "outputs": []
    },
    {
      "cell_type": "code",
      "source": [
        "market_file.info()"
      ],
      "metadata": {
        "execution": {
          "iopub.status.busy": "2024-02-07T21:28:09.907346Z",
          "iopub.execute_input": "2024-02-07T21:28:09.908023Z",
          "iopub.status.idle": "2024-02-07T21:28:09.926474Z",
          "shell.execute_reply.started": "2024-02-07T21:28:09.907982Z",
          "shell.execute_reply": "2024-02-07T21:28:09.925436Z"
        },
        "trusted": true,
        "id": "6rF0aVDZvlB3"
      },
      "execution_count": null,
      "outputs": []
    },
    {
      "cell_type": "code",
      "source": [
        "market_money.head()"
      ],
      "metadata": {
        "execution": {
          "iopub.status.busy": "2024-02-07T21:28:09.928052Z",
          "iopub.execute_input": "2024-02-07T21:28:09.928697Z",
          "iopub.status.idle": "2024-02-07T21:28:09.947967Z",
          "shell.execute_reply.started": "2024-02-07T21:28:09.928658Z",
          "shell.execute_reply": "2024-02-07T21:28:09.946782Z"
        },
        "trusted": true,
        "id": "Rb--_XglvlB3"
      },
      "execution_count": null,
      "outputs": []
    },
    {
      "cell_type": "code",
      "source": [
        "market_money.info()"
      ],
      "metadata": {
        "execution": {
          "iopub.status.busy": "2024-02-07T21:28:09.949825Z",
          "iopub.execute_input": "2024-02-07T21:28:09.950267Z",
          "iopub.status.idle": "2024-02-07T21:28:09.964533Z",
          "shell.execute_reply.started": "2024-02-07T21:28:09.950229Z",
          "shell.execute_reply": "2024-02-07T21:28:09.963174Z"
        },
        "trusted": true,
        "id": "vTp03hMSvlB3"
      },
      "execution_count": null,
      "outputs": []
    },
    {
      "cell_type": "code",
      "source": [
        "market_time.head()"
      ],
      "metadata": {
        "execution": {
          "iopub.status.busy": "2024-02-07T21:28:09.966174Z",
          "iopub.execute_input": "2024-02-07T21:28:09.966619Z",
          "iopub.status.idle": "2024-02-07T21:28:09.982576Z",
          "shell.execute_reply.started": "2024-02-07T21:28:09.966581Z",
          "shell.execute_reply": "2024-02-07T21:28:09.981329Z"
        },
        "trusted": true,
        "id": "lWLj8R6QvlB3"
      },
      "execution_count": null,
      "outputs": []
    },
    {
      "cell_type": "code",
      "source": [
        "market_time.info()"
      ],
      "metadata": {
        "execution": {
          "iopub.status.busy": "2024-02-07T21:28:09.98433Z",
          "iopub.execute_input": "2024-02-07T21:28:09.984884Z",
          "iopub.status.idle": "2024-02-07T21:28:09.999325Z",
          "shell.execute_reply.started": "2024-02-07T21:28:09.984844Z",
          "shell.execute_reply": "2024-02-07T21:28:09.997859Z"
        },
        "trusted": true,
        "id": "T7rqQZlBvlB3"
      },
      "execution_count": null,
      "outputs": []
    },
    {
      "cell_type": "code",
      "source": [
        "money.head()"
      ],
      "metadata": {
        "execution": {
          "iopub.status.busy": "2024-02-07T21:28:10.003176Z",
          "iopub.execute_input": "2024-02-07T21:28:10.003788Z",
          "iopub.status.idle": "2024-02-07T21:28:10.017536Z",
          "shell.execute_reply.started": "2024-02-07T21:28:10.003746Z",
          "shell.execute_reply": "2024-02-07T21:28:10.016687Z"
        },
        "trusted": true,
        "id": "DtIf1_bovlB4"
      },
      "execution_count": null,
      "outputs": []
    },
    {
      "cell_type": "code",
      "source": [
        "money.info()"
      ],
      "metadata": {
        "execution": {
          "iopub.status.busy": "2024-02-07T21:28:10.019309Z",
          "iopub.execute_input": "2024-02-07T21:28:10.020022Z",
          "iopub.status.idle": "2024-02-07T21:28:10.03257Z",
          "shell.execute_reply.started": "2024-02-07T21:28:10.019982Z",
          "shell.execute_reply": "2024-02-07T21:28:10.031691Z"
        },
        "trusted": true,
        "id": "Hf70PEfRvlB4"
      },
      "execution_count": null,
      "outputs": []
    },
    {
      "cell_type": "markdown",
      "source": [
        "**Вывод**\n",
        "* Данные соответствуют описанию\n",
        "* В данных отсутствуют пропуски"
      ],
      "metadata": {
        "id": "4rX6z8rNvlB4"
      }
    },
    {
      "cell_type": "markdown",
      "source": [
        "## Шаг 2. Предобработка данных"
      ],
      "metadata": {
        "id": "S2jWiArnvlB4"
      }
    },
    {
      "cell_type": "markdown",
      "source": [
        "*Проведите необходимую предобработку данных. Названия столбцов можно оставить кириллическими.*"
      ],
      "metadata": {
        "id": "GuYUjpQ7vlB4"
      }
    },
    {
      "cell_type": "markdown",
      "source": [
        "Определим функцию для удобства анализа"
      ],
      "metadata": {
        "id": "XHo376FLvlB4"
      }
    },
    {
      "cell_type": "code",
      "source": [
        "def extended_dataframe_analysis(df):\n",
        "    \"\"\"\n",
        "    Предоставляет расширенную первичную информацию по таблице данных.\n",
        "\n",
        "    :param df: DataFrame для анализа.\n",
        "    :return: Словарь с ключевой информацией.\n",
        "    \"\"\"\n",
        "    analysis = {}\n",
        "\n",
        "    # Пропущенные значения\n",
        "    missing_values = df.isnull().sum()\n",
        "    missing_percent = (missing_values / len(df)) * 100\n",
        "    analysis['missing_values'] = pd.DataFrame({'count': missing_values, 'percentage': missing_percent})\n",
        "\n",
        "    # Количество дубликатов строк\n",
        "    analysis['duplicates'] = df.duplicated().sum()\n",
        "\n",
        "    # Информация по категориальным столбцам\n",
        "    categorical_cols = df.select_dtypes(include=['object', 'category']).columns\n",
        "    categories_info = {col: {'unique_count': df[col].nunique(), 'unique_values': df[col].unique()} for col in categorical_cols}\n",
        "    analysis['categories_info'] = categories_info\n",
        "\n",
        "    return analysis"
      ],
      "metadata": {
        "execution": {
          "iopub.status.busy": "2024-02-07T21:28:10.034378Z",
          "iopub.execute_input": "2024-02-07T21:28:10.03503Z",
          "iopub.status.idle": "2024-02-07T21:28:10.04419Z",
          "shell.execute_reply.started": "2024-02-07T21:28:10.034991Z",
          "shell.execute_reply": "2024-02-07T21:28:10.043072Z"
        },
        "trusted": true,
        "id": "lQzMVdMrvlB4"
      },
      "execution_count": null,
      "outputs": []
    },
    {
      "cell_type": "code",
      "source": [
        "def fancy_info_output(info):\n",
        "    \"\"\"\n",
        "    Показывает в консоли информацию о категориальных значениях по каждому параметру\n",
        "\n",
        "    :param info: словарь\n",
        "    \"\"\"\n",
        "    for category in info:\n",
        "        print(category, '=>', info[category]['unique_count'])\n",
        "        for value in info[category]['unique_values']:\n",
        "            print('-', value)"
      ],
      "metadata": {
        "execution": {
          "iopub.status.busy": "2024-02-07T21:28:10.048325Z",
          "iopub.execute_input": "2024-02-07T21:28:10.048806Z",
          "iopub.status.idle": "2024-02-07T21:28:10.060277Z",
          "shell.execute_reply.started": "2024-02-07T21:28:10.048775Z",
          "shell.execute_reply": "2024-02-07T21:28:10.059406Z"
        },
        "trusted": true,
        "id": "Pwq7U1NjvlB4"
      },
      "execution_count": null,
      "outputs": []
    },
    {
      "cell_type": "code",
      "source": [
        "market_file_analysis = extended_dataframe_analysis(market_file)\n",
        "market_money_analysis = extended_dataframe_analysis(market_money)\n",
        "market_time_analysis = extended_dataframe_analysis(market_time)\n",
        "money_analysis = extended_dataframe_analysis(money)"
      ],
      "metadata": {
        "execution": {
          "iopub.status.busy": "2024-02-07T21:28:10.06194Z",
          "iopub.execute_input": "2024-02-07T21:28:10.062644Z",
          "iopub.status.idle": "2024-02-07T21:28:10.089349Z",
          "shell.execute_reply.started": "2024-02-07T21:28:10.062603Z",
          "shell.execute_reply": "2024-02-07T21:28:10.08813Z"
        },
        "trusted": true,
        "id": "cMwcODLHvlB5"
      },
      "execution_count": null,
      "outputs": []
    },
    {
      "cell_type": "code",
      "source": [
        "market_file.shape"
      ],
      "metadata": {
        "execution": {
          "iopub.status.busy": "2024-02-07T21:28:10.091949Z",
          "iopub.execute_input": "2024-02-07T21:28:10.092688Z",
          "iopub.status.idle": "2024-02-07T21:28:10.100558Z",
          "shell.execute_reply.started": "2024-02-07T21:28:10.092648Z",
          "shell.execute_reply": "2024-02-07T21:28:10.099518Z"
        },
        "trusted": true,
        "id": "27pCEVamvlB5"
      },
      "execution_count": null,
      "outputs": []
    },
    {
      "cell_type": "code",
      "source": [
        "market_file.dtypes"
      ],
      "metadata": {
        "execution": {
          "iopub.status.busy": "2024-02-07T21:28:10.10445Z",
          "iopub.execute_input": "2024-02-07T21:28:10.10489Z",
          "iopub.status.idle": "2024-02-07T21:28:10.115056Z",
          "shell.execute_reply.started": "2024-02-07T21:28:10.104858Z",
          "shell.execute_reply": "2024-02-07T21:28:10.113965Z"
        },
        "trusted": true,
        "id": "57z86EFevlB5"
      },
      "execution_count": null,
      "outputs": []
    },
    {
      "cell_type": "code",
      "source": [
        "market_file_analysis['missing_values']"
      ],
      "metadata": {
        "execution": {
          "iopub.status.busy": "2024-02-07T21:28:10.116722Z",
          "iopub.execute_input": "2024-02-07T21:28:10.11736Z",
          "iopub.status.idle": "2024-02-07T21:28:10.134188Z",
          "shell.execute_reply.started": "2024-02-07T21:28:10.117321Z",
          "shell.execute_reply": "2024-02-07T21:28:10.133116Z"
        },
        "trusted": true,
        "id": "gQzibEwovlB5"
      },
      "execution_count": null,
      "outputs": []
    },
    {
      "cell_type": "code",
      "source": [
        "fancy_info_output(market_file_analysis['categories_info'])"
      ],
      "metadata": {
        "execution": {
          "iopub.status.busy": "2024-02-07T21:28:10.135962Z",
          "iopub.execute_input": "2024-02-07T21:28:10.136767Z",
          "iopub.status.idle": "2024-02-07T21:28:10.146134Z",
          "shell.execute_reply.started": "2024-02-07T21:28:10.136724Z",
          "shell.execute_reply": "2024-02-07T21:28:10.14499Z"
        },
        "trusted": true,
        "id": "H-ml-lhrvlB5"
      },
      "execution_count": null,
      "outputs": []
    },
    {
      "cell_type": "code",
      "source": [
        "market_file_analysis['duplicates']"
      ],
      "metadata": {
        "execution": {
          "iopub.status.busy": "2024-02-07T21:28:10.147643Z",
          "iopub.execute_input": "2024-02-07T21:28:10.148352Z",
          "iopub.status.idle": "2024-02-07T21:28:10.16155Z",
          "shell.execute_reply.started": "2024-02-07T21:28:10.148313Z",
          "shell.execute_reply": "2024-02-07T21:28:10.160697Z"
        },
        "trusted": true,
        "id": "Dpx7rRQ7vlB5"
      },
      "execution_count": null,
      "outputs": []
    },
    {
      "cell_type": "markdown",
      "source": [
        "После изучения данных из `market_file`, сделаем следующее:\n",
        "* Имена параметров в shake_case для консистентности\n",
        "* В значении параметра `Тип сервиса` исправим опечатку"
      ],
      "metadata": {
        "id": "6ObBvetsvlB5"
      }
    },
    {
      "cell_type": "code",
      "source": [
        "market_file = market_file.rename(columns={\n",
        "    'Покупательская активность': 'Покупательская_активность',\n",
        "    'Тип сервиса': 'Тип_сервиса',\n",
        "    'Разрешить сообщать': 'Разрешить_сообщать'\n",
        "})"
      ],
      "metadata": {
        "execution": {
          "iopub.status.busy": "2024-02-07T21:28:10.164402Z",
          "iopub.execute_input": "2024-02-07T21:28:10.165325Z",
          "iopub.status.idle": "2024-02-07T21:28:10.172584Z",
          "shell.execute_reply.started": "2024-02-07T21:28:10.165294Z",
          "shell.execute_reply": "2024-02-07T21:28:10.171548Z"
        },
        "trusted": true,
        "id": "wwDtpbSxvlB5"
      },
      "execution_count": null,
      "outputs": []
    },
    {
      "cell_type": "code",
      "source": [
        "market_file.loc[market_file['Тип_сервиса'] == 'стандартт', 'Тип_сервиса'] = 'стандарт'"
      ],
      "metadata": {
        "execution": {
          "iopub.status.busy": "2024-02-07T21:28:10.174082Z",
          "iopub.execute_input": "2024-02-07T21:28:10.175101Z",
          "iopub.status.idle": "2024-02-07T21:28:10.188473Z",
          "shell.execute_reply.started": "2024-02-07T21:28:10.175061Z",
          "shell.execute_reply": "2024-02-07T21:28:10.187483Z"
        },
        "trusted": true,
        "id": "AX5hZma9vlB6"
      },
      "execution_count": null,
      "outputs": []
    },
    {
      "cell_type": "code",
      "source": [
        "market_money.shape"
      ],
      "metadata": {
        "execution": {
          "iopub.status.busy": "2024-02-07T21:28:10.189725Z",
          "iopub.execute_input": "2024-02-07T21:28:10.190862Z",
          "iopub.status.idle": "2024-02-07T21:28:10.200757Z",
          "shell.execute_reply.started": "2024-02-07T21:28:10.190821Z",
          "shell.execute_reply": "2024-02-07T21:28:10.199769Z"
        },
        "trusted": true,
        "id": "2tOF1x_1vlB6"
      },
      "execution_count": null,
      "outputs": []
    },
    {
      "cell_type": "code",
      "source": [
        "market_money.dtypes"
      ],
      "metadata": {
        "execution": {
          "iopub.status.busy": "2024-02-07T21:28:10.203377Z",
          "iopub.execute_input": "2024-02-07T21:28:10.204306Z",
          "iopub.status.idle": "2024-02-07T21:28:10.212981Z",
          "shell.execute_reply.started": "2024-02-07T21:28:10.204263Z",
          "shell.execute_reply": "2024-02-07T21:28:10.212014Z"
        },
        "trusted": true,
        "id": "L9srPxrLvlB6"
      },
      "execution_count": null,
      "outputs": []
    },
    {
      "cell_type": "code",
      "source": [
        "market_money_analysis['missing_values']"
      ],
      "metadata": {
        "execution": {
          "iopub.status.busy": "2024-02-07T21:28:10.214244Z",
          "iopub.execute_input": "2024-02-07T21:28:10.214759Z",
          "iopub.status.idle": "2024-02-07T21:28:10.231772Z",
          "shell.execute_reply.started": "2024-02-07T21:28:10.214725Z",
          "shell.execute_reply": "2024-02-07T21:28:10.230631Z"
        },
        "trusted": true,
        "id": "Dr7HfBD3vlB6"
      },
      "execution_count": null,
      "outputs": []
    },
    {
      "cell_type": "code",
      "source": [
        "fancy_info_output(market_money_analysis['categories_info'])"
      ],
      "metadata": {
        "execution": {
          "iopub.status.busy": "2024-02-07T21:28:10.233776Z",
          "iopub.execute_input": "2024-02-07T21:28:10.234341Z",
          "iopub.status.idle": "2024-02-07T21:28:10.245245Z",
          "shell.execute_reply.started": "2024-02-07T21:28:10.234301Z",
          "shell.execute_reply": "2024-02-07T21:28:10.244162Z"
        },
        "trusted": true,
        "id": "65NBXllUvlB7"
      },
      "execution_count": null,
      "outputs": []
    },
    {
      "cell_type": "code",
      "source": [
        "market_money_analysis['duplicates']"
      ],
      "metadata": {
        "execution": {
          "iopub.status.busy": "2024-02-07T21:28:10.24701Z",
          "iopub.execute_input": "2024-02-07T21:28:10.24764Z",
          "iopub.status.idle": "2024-02-07T21:28:10.257924Z",
          "shell.execute_reply.started": "2024-02-07T21:28:10.247609Z",
          "shell.execute_reply": "2024-02-07T21:28:10.256929Z"
        },
        "trusted": true,
        "id": "sLT6V3G5vlB7"
      },
      "execution_count": null,
      "outputs": []
    },
    {
      "cell_type": "markdown",
      "source": [
        "После изучения данных из `market_money` видим что в значении параметра `Период` есть опечатка. Исправим её."
      ],
      "metadata": {
        "id": "DP-r1RdMvlB7"
      }
    },
    {
      "cell_type": "code",
      "source": [
        "market_money.loc[market_money['Период'] == 'препредыдущий_месяц', 'Период'] = 'предыдущий_месяц'"
      ],
      "metadata": {
        "execution": {
          "iopub.status.busy": "2024-02-07T21:28:10.260413Z",
          "iopub.execute_input": "2024-02-07T21:28:10.26107Z",
          "iopub.status.idle": "2024-02-07T21:28:10.269665Z",
          "shell.execute_reply.started": "2024-02-07T21:28:10.261039Z",
          "shell.execute_reply": "2024-02-07T21:28:10.268452Z"
        },
        "trusted": true,
        "id": "JD6Q8wcbvlB7"
      },
      "execution_count": null,
      "outputs": []
    },
    {
      "cell_type": "code",
      "source": [
        "market_time.shape"
      ],
      "metadata": {
        "trusted": true,
        "id": "E5hCq0e1vlB7"
      },
      "execution_count": null,
      "outputs": []
    },
    {
      "cell_type": "code",
      "source": [
        "market_time.dtypes"
      ],
      "metadata": {
        "trusted": true,
        "id": "NljM4AWCvlB8"
      },
      "execution_count": null,
      "outputs": []
    },
    {
      "cell_type": "code",
      "source": [
        "market_time_analysis['missing_values']"
      ],
      "metadata": {
        "trusted": true,
        "id": "NiRGLJ_1vlB8"
      },
      "execution_count": null,
      "outputs": []
    },
    {
      "cell_type": "code",
      "source": [
        "fancy_info_output(market_time_analysis['categories_info'])"
      ],
      "metadata": {
        "trusted": true,
        "id": "m5lPHQ-rvlB9"
      },
      "execution_count": null,
      "outputs": []
    },
    {
      "cell_type": "code",
      "source": [
        "market_time_analysis['duplicates']"
      ],
      "metadata": {
        "trusted": true,
        "id": "8fPxnaVJvlB9"
      },
      "execution_count": null,
      "outputs": []
    },
    {
      "cell_type": "markdown",
      "source": [
        "После изучения данных из `market_time` видим что в значении параметра Период есть опечатка. Исправим её."
      ],
      "metadata": {
        "id": "LTk1URUmvlB-"
      }
    },
    {
      "cell_type": "code",
      "source": [
        "market_time.loc[market_time['Период'] == 'предыдцщий_месяц', 'Период'] = 'предыдущий_месяц'"
      ],
      "metadata": {
        "trusted": true,
        "id": "QaQ0SyZxvlB-"
      },
      "execution_count": null,
      "outputs": []
    },
    {
      "cell_type": "code",
      "source": [
        "money.shape"
      ],
      "metadata": {
        "trusted": true,
        "id": "fQUp6vmgvlB-"
      },
      "execution_count": null,
      "outputs": []
    },
    {
      "cell_type": "code",
      "source": [
        "money.dtypes"
      ],
      "metadata": {
        "trusted": true,
        "id": "EnSWtJE6vlB-"
      },
      "execution_count": null,
      "outputs": []
    },
    {
      "cell_type": "code",
      "source": [
        "money_analysis['missing_values']"
      ],
      "metadata": {
        "trusted": true,
        "id": "SYssF-pIvlB-"
      },
      "execution_count": null,
      "outputs": []
    },
    {
      "cell_type": "code",
      "source": [
        "money_analysis['duplicates']"
      ],
      "metadata": {
        "trusted": true,
        "id": "sxfi-vYCvlB-"
      },
      "execution_count": null,
      "outputs": []
    },
    {
      "cell_type": "markdown",
      "source": [
        "**Вывод:**\n",
        "* пропущенных значений не обнаружено\n",
        "* дубликатов тоже в данных нет\n",
        "* типы все верные\n",
        "* приведены к общему виду имена параметров\n",
        "* исправлены опечатки"
      ],
      "metadata": {
        "id": "P6diweNbvlB-"
      }
    },
    {
      "cell_type": "markdown",
      "source": [
        "## Шаг 3. Исследовательский анализ данных"
      ],
      "metadata": {
        "id": "c-DQsFbKvlB-"
      }
    },
    {
      "cell_type": "markdown",
      "source": [
        "*Проведите исследовательский анализ данных из каждой таблицы. Отберите клиентов с покупательской активностью не менее трёх месяцев, то есть таких, которые что-либо покупали в этот период. Оформите выводы по результатам шага.*"
      ],
      "metadata": {
        "id": "q1FzHU75vlB-"
      }
    },
    {
      "cell_type": "markdown",
      "source": [
        "На данном шаге\n",
        "- изучим статистики всех таблиц и выбросы с помощью диаграммы \"ящик с усами\".\n",
        "- отберем клиентов с покупательской активностью не менее трёх месяцев\n",
        "\n"
      ],
      "metadata": {
        "id": "e8S_73rRvlB_"
      }
    },
    {
      "cell_type": "markdown",
      "source": [
        "Определим функции для построения диаграмм"
      ],
      "metadata": {
        "id": "u-kkfKTavlB_"
      }
    },
    {
      "cell_type": "code",
      "source": [
        "def plot_histograms_boxplots(df):\n",
        "    \"\"\"\n",
        "    Строит гистограммы и ящики с усами для каждого количественного фактора в DataFrame.\n",
        "\n",
        "    :param df: DataFrame, содержащий данные\n",
        "    \"\"\"\n",
        "    # Выбор числовых столбцов\n",
        "    numeric_cols = df.select_dtypes(include=['number']).columns\n",
        "\n",
        "    # Установка размера фигуры\n",
        "    num_plots = len(numeric_cols)\n",
        "    plt.figure(figsize=(10, 5 * num_plots))\n",
        "\n",
        "    # Построение гистограмм и ящиков с усами для каждого числового столбца\n",
        "    for i, col in enumerate(numeric_cols):\n",
        "        # Гистограмма\n",
        "        plt.subplot(num_plots, 2, 2*i + 1)\n",
        "        df[col].hist(bins=15)\n",
        "        plt.title(f'Histogram of {col}')\n",
        "        plt.xlabel(col)\n",
        "        plt.ylabel('Frequency')\n",
        "\n",
        "        # Ящик с усами\n",
        "        plt.subplot(num_plots, 2, 2*i + 2)\n",
        "        df.boxplot(column=col)\n",
        "        plt.title(f'Box Plot of {col}')\n",
        "\n",
        "    plt.tight_layout()\n",
        "    plt.show()"
      ],
      "metadata": {
        "trusted": true,
        "id": "1IquB0kjvlB_"
      },
      "execution_count": null,
      "outputs": []
    },
    {
      "cell_type": "code",
      "source": [
        "def plot_countplots(df):\n",
        "    \"\"\"\n",
        "    Строит countplots для каждого категориального фактора в DataFrame.\n",
        "\n",
        "    :param df: DataFrame, содержащий данные.\n",
        "    \"\"\"\n",
        "    # Выбор категориальных столбцов\n",
        "    categorical_cols = df.select_dtypes(exclude=['number']).columns\n",
        "\n",
        "    # Установка размера фигуры\n",
        "    num_plots = len(categorical_cols)\n",
        "    plt.figure(figsize=(10, 5 * num_plots))\n",
        "\n",
        "    # Построение countplots для каждого категориального столбца\n",
        "    for i, col in enumerate(categorical_cols):\n",
        "        plt.subplot(num_plots, 1, i + 1)\n",
        "        sns.countplot(y=col, data=df)\n",
        "        plt.title(f'График {col}')\n",
        "        plt.xlabel(col)\n",
        "        plt.ylabel('Количество')\n",
        "\n",
        "    plt.tight_layout()\n",
        "    plt.show()"
      ],
      "metadata": {
        "trusted": true,
        "id": "pVTojQ--vlB_"
      },
      "execution_count": null,
      "outputs": []
    },
    {
      "cell_type": "markdown",
      "source": [
        "Чтобы id не учитывались в анализе сделаем его индексом"
      ],
      "metadata": {
        "id": "sAhiLGnUvlB_"
      }
    },
    {
      "cell_type": "code",
      "source": [
        "market_file = market_file.set_index('id')\n",
        "market_money = market_money.set_index('id')\n",
        "market_time = market_time.set_index('id')\n",
        "money = money.set_index('id')"
      ],
      "metadata": {
        "trusted": true,
        "id": "DU-dExt2vlB_"
      },
      "execution_count": null,
      "outputs": []
    },
    {
      "cell_type": "code",
      "source": [
        "market_file.describe()"
      ],
      "metadata": {
        "trusted": true,
        "id": "XoE1v14dvlB_"
      },
      "execution_count": null,
      "outputs": []
    },
    {
      "cell_type": "code",
      "source": [
        "plot_histograms_boxplots(market_file)"
      ],
      "metadata": {
        "trusted": true,
        "id": "gcvEIvnjvlB_"
      },
      "execution_count": null,
      "outputs": []
    },
    {
      "cell_type": "markdown",
      "source": [
        "Диаграмма для параметра `Маркет_актив_тек_мес` выглядит так потому что уникальных значений всего 3"
      ],
      "metadata": {
        "id": "kNWOIX2bvlB_"
      }
    },
    {
      "cell_type": "code",
      "source": [
        "market_file['Маркет_актив_тек_мес'].unique()"
      ],
      "metadata": {
        "trusted": true,
        "id": "NQDKHIlAvlB_"
      },
      "execution_count": null,
      "outputs": []
    },
    {
      "cell_type": "markdown",
      "source": [
        "В параметрах `Маркет_актив_6_мес`, `Акционные_покупки`, `Неоплаченные_продукты_штук_квартал` присутствуют выбросы"
      ],
      "metadata": {
        "id": "ZP4JTNTOvlCA"
      }
    },
    {
      "cell_type": "code",
      "source": [
        "# Изучим распределение\n",
        "plot_countplots(market_file)"
      ],
      "metadata": {
        "trusted": true,
        "id": "RtUxsMoivlCA"
      },
      "execution_count": null,
      "outputs": []
    },
    {
      "cell_type": "markdown",
      "source": [
        "В параметрах: `Тип_сервиса` и `Разрешить_сообщать` виден дисбаланс в значениях. Тажке он есть и в целевом признаке `Покупательская_активность`"
      ],
      "metadata": {
        "id": "ZIuWci6yvlCA"
      }
    },
    {
      "cell_type": "code",
      "source": [
        "market_money.describe()"
      ],
      "metadata": {
        "trusted": true,
        "id": "RFuLX34svlCA"
      },
      "execution_count": null,
      "outputs": []
    },
    {
      "cell_type": "code",
      "source": [
        "plot_histograms_boxplots(market_money)"
      ],
      "metadata": {
        "trusted": true,
        "id": "jCXShmqwvlCA"
      },
      "execution_count": null,
      "outputs": []
    },
    {
      "cell_type": "markdown",
      "source": [
        "Диаграмму для параметра `Выручка` так \"сплющело\" из-за выброса, найдем и удалим его"
      ],
      "metadata": {
        "id": "KhpAOZFovlCA"
      }
    },
    {
      "cell_type": "code",
      "source": [
        "market_money.sort_values(by='Выручка', ascending=False).head()"
      ],
      "metadata": {
        "trusted": true,
        "id": "cBbXEAhwvlCA"
      },
      "execution_count": null,
      "outputs": []
    },
    {
      "cell_type": "code",
      "source": [
        "market_money = market_money[market_money['Выручка'] != 106862.2]\n",
        "plot_histograms_boxplots(market_money)"
      ],
      "metadata": {
        "trusted": true,
        "id": "RfpqqXgGvlCA"
      },
      "execution_count": null,
      "outputs": []
    },
    {
      "cell_type": "markdown",
      "source": [
        "Теперь значение 0, похоже на выброс, тоже удаляем"
      ],
      "metadata": {
        "id": "_7wWuiiHvlCA"
      }
    },
    {
      "cell_type": "code",
      "source": [
        "market_money = market_money[market_money['Выручка'] != 0]\n",
        "plot_histograms_boxplots(market_money)"
      ],
      "metadata": {
        "trusted": true,
        "id": "jdMBuYapvlCA"
      },
      "execution_count": null,
      "outputs": []
    },
    {
      "cell_type": "code",
      "source": [
        "# Изучим распределение\n",
        "plot_countplots(market_money)"
      ],
      "metadata": {
        "trusted": true,
        "id": "F5P3q5envlCA"
      },
      "execution_count": null,
      "outputs": []
    },
    {
      "cell_type": "code",
      "source": [
        "market_time.describe()"
      ],
      "metadata": {
        "trusted": true,
        "id": "YGf4spvnvlCA"
      },
      "execution_count": null,
      "outputs": []
    },
    {
      "cell_type": "code",
      "source": [
        "plot_histograms_boxplots(market_time)"
      ],
      "metadata": {
        "trusted": true,
        "id": "53colMsAvlCA"
      },
      "execution_count": null,
      "outputs": []
    },
    {
      "cell_type": "markdown",
      "source": [
        "Тут всё гуд"
      ],
      "metadata": {
        "id": "imuWj8czvlCA"
      }
    },
    {
      "cell_type": "code",
      "source": [
        "# Изучим распределение\n",
        "plot_countplots(market_time)"
      ],
      "metadata": {
        "trusted": true,
        "id": "es-IMIZ2vlCA"
      },
      "execution_count": null,
      "outputs": []
    },
    {
      "cell_type": "markdown",
      "source": [
        "Такое бывает?!"
      ],
      "metadata": {
        "id": "1qGJ79e_vlCB"
      }
    },
    {
      "cell_type": "code",
      "source": [
        "money.describe()"
      ],
      "metadata": {
        "trusted": true,
        "id": "DPOnuNovvlCB"
      },
      "execution_count": null,
      "outputs": []
    },
    {
      "cell_type": "code",
      "source": [
        "plot_histograms_boxplots(money)"
      ],
      "metadata": {
        "trusted": true,
        "id": "wgzYlK9GvlCB"
      },
      "execution_count": null,
      "outputs": []
    },
    {
      "cell_type": "markdown",
      "source": [
        "Параметр `Прибыль` имеет выбросы"
      ],
      "metadata": {
        "id": "0oxfvYZsvlCB"
      }
    },
    {
      "cell_type": "markdown",
      "source": [
        "Чтобы отобрать пользователей с покупательской активностью не менее трёх месяцев можно просто взять пользователей из таблицы money. Данныя таблица как раз хранит данные о среднемесячной прибыли покупателя за последние 3 месяца. Так как в таблице нет значений равные 0 следовательно все пользователи совершали покупки в течении нужного срока"
      ],
      "metadata": {
        "id": "YeohFMwRvlCB"
      }
    },
    {
      "cell_type": "markdown",
      "source": [
        "**Вывод**\n",
        "\n",
        "В данных присутствуют выбросы и наблюдается неравномерное распределение в данных."
      ],
      "metadata": {
        "id": "TJHvfMMLvlCB"
      }
    },
    {
      "cell_type": "markdown",
      "source": [
        "## Шаг 4. Объединение таблиц"
      ],
      "metadata": {
        "id": "dTQGH_yOvlCB"
      }
    },
    {
      "cell_type": "markdown",
      "source": [
        "- *4.1 Объедините таблицы market_file.csv, market_money.csv, market_time.csv. Данные о прибыли из файла money.csv при моделировании вам не понадобятся.*\n",
        "- *4.2 Учитывайте, что данные о выручке и времени на сайте находятся в одном столбце для всех периодов. В итоговой таблице сделайте отдельный столбец для каждого периода.*"
      ],
      "metadata": {
        "id": "Mh6IABkfvlCB"
      }
    },
    {
      "cell_type": "markdown",
      "source": [
        "Перед тем как объядинять данные явно переименуем столблец `Период` в таблице `market_money` на `Период_деньги`, а `Период` в таблице `market_time` на `Период_время`"
      ],
      "metadata": {
        "id": "xssaSwCdvlCB"
      }
    },
    {
      "cell_type": "code",
      "source": [
        "market_money.columns"
      ],
      "metadata": {
        "trusted": true,
        "id": "rTE07ZeXvlCB"
      },
      "execution_count": null,
      "outputs": []
    },
    {
      "cell_type": "code",
      "source": [
        "market_money = market_money.rename(columns={'Период': 'Период_деньги'})\n",
        "market_money.columns"
      ],
      "metadata": {
        "trusted": true,
        "id": "0euW2FlVvlCB"
      },
      "execution_count": null,
      "outputs": []
    },
    {
      "cell_type": "code",
      "source": [
        "market_time.columns"
      ],
      "metadata": {
        "trusted": true,
        "id": "oIt_TFWVvlCB"
      },
      "execution_count": null,
      "outputs": []
    },
    {
      "cell_type": "code",
      "source": [
        "market_time = market_time.rename(columns={'Период': 'Период_время'})\n",
        "market_time.columns"
      ],
      "metadata": {
        "trusted": true,
        "id": "24ItQ0G3vlCB"
      },
      "execution_count": null,
      "outputs": []
    },
    {
      "cell_type": "code",
      "source": [
        "df_full = market_file.join(market_money, on='id')\n",
        "df_full = df_full.join(market_time, on='id')"
      ],
      "metadata": {
        "trusted": true,
        "id": "2-ERdyJEvlCB"
      },
      "execution_count": null,
      "outputs": []
    },
    {
      "cell_type": "code",
      "source": [
        "df_full.head(20)"
      ],
      "metadata": {
        "trusted": true,
        "id": "hrU_isjYvlCB"
      },
      "execution_count": null,
      "outputs": []
    },
    {
      "cell_type": "code",
      "source": [
        "df_full.shape"
      ],
      "metadata": {
        "trusted": true,
        "id": "eR_JKKOevlCB"
      },
      "execution_count": null,
      "outputs": []
    },
    {
      "cell_type": "code",
      "source": [
        "df_full.info()"
      ],
      "metadata": {
        "trusted": true,
        "id": "NA3I1Pw1vlCC"
      },
      "execution_count": null,
      "outputs": []
    },
    {
      "cell_type": "markdown",
      "source": [
        "**Вывод:** Кажется объединение прошло успешно. Типы в норме и нет NaN"
      ],
      "metadata": {
        "id": "PXv59_AwvlCC"
      }
    },
    {
      "cell_type": "markdown",
      "source": [
        "## Шаг 5. Корреляционный анализ"
      ],
      "metadata": {
        "id": "hQ7Q_5PSvlCC"
      }
    },
    {
      "cell_type": "markdown",
      "source": [
        "*Проведите корреляционный анализ признаков в количественной шкале в итоговой таблице для моделирования. Сделайте выводы о мультиколлинеарности и при необходимости устраните её.*"
      ],
      "metadata": {
        "id": "6UX5ZnNMvlCC"
      }
    },
    {
      "cell_type": "code",
      "source": [
        "sns.pairplot(df_full, hue='Покупательская_активность')\n",
        "\n",
        "plt.show()"
      ],
      "metadata": {
        "trusted": true,
        "id": "wN5hRhJjvlCC"
      },
      "execution_count": null,
      "outputs": []
    },
    {
      "cell_type": "code",
      "source": [
        "numeric_cols = df_full.select_dtypes(include=['number']).columns\n",
        "correlation_matrix = df_full[numeric_cols].corr(method='spearman')\n",
        "\n",
        "plt.figure(figsize=(10, 8))\n",
        "sns.heatmap(correlation_matrix, annot=True, cmap='coolwarm')\n",
        "plt.show()"
      ],
      "metadata": {
        "trusted": true,
        "id": "pY71eZ5tvlCC"
      },
      "execution_count": null,
      "outputs": []
    },
    {
      "cell_type": "markdown",
      "source": [
        "## Шаг 6. Использование пайплайнов"
      ],
      "metadata": {
        "id": "cldcc6SBvlCC"
      }
    },
    {
      "cell_type": "markdown",
      "source": [
        "*Примените все изученные модели. Для этого используйте пайплайны.*\n",
        "\n",
        "- *6.1 Во время подготовки данных используйте ColumnTransformer. Количественные и категориальные признаки обработайте в пайплайне раздельно. Для кодирования категориальных признаков используйте как минимум два кодировщика, для масштабирования количественных — как минимум два скейлера.*\n",
        "\n",
        "*Напоминаем, что для каждой модели можно подготовить данные с разным кодированием и масштабированием.*\n",
        "\n",
        "- *6.2 Обучите четыре модели: KNeighborsClassifier(), DecisionTreeClassifier(), LogisticRegression() и  SVC(). Для каждой из них подберите как минимум один гиперпараметр. Выберите подходящую для задачи метрику, аргументируйте свой выбор. Используйте эту метрику при подборе гиперпараметров.*\n",
        "- *6.3 Выберите лучшую модель, используя заданную метрику. Для этого примените одну из стратегий:*\n",
        "    - *использовать пайплайны и инструменты подбора гиперпараметров для каждой модели отдельно, чтобы выбрать лучшую модель самостоятельно*\n",
        "    - *использовать один общий пайплайн для всех моделей и инструмент подбора гиперпараметров, который вернёт вам лучшую модель*"
      ],
      "metadata": {
        "id": "vyo9HWHCvlCC"
      }
    },
    {
      "cell_type": "code",
      "source": [
        "encoder = LabelEncoder()\n",
        "\n",
        "X = df_full.drop(['Покупательская_активность'], axis=1)\n",
        "y = encoder.fit_transform(df_full['Покупательская_активность'])"
      ],
      "metadata": {
        "trusted": true,
        "id": "Q5f4fJ2wvlCC"
      },
      "execution_count": null,
      "outputs": []
    },
    {
      "cell_type": "code",
      "source": [
        "X_train, X_test, y_train, y_test = train_test_split(\n",
        "    X,\n",
        "    y,\n",
        "    test_size = TEST_SIZE,\n",
        "    random_state = RANDOM_STATE,\n",
        "    stratify = y)"
      ],
      "metadata": {
        "trusted": true,
        "id": "0rmzbC-VvlCC"
      },
      "execution_count": null,
      "outputs": []
    },
    {
      "cell_type": "code",
      "source": [
        "ohe_columns = ['Тип_сервиса', 'Разрешить_сообщать', 'Период_деньги', 'Период_время']\n",
        "ord_columns = ['Популярная_категория']\n",
        "num_columns = ['Маркет_актив_6_мес', 'Маркет_актив_тек_мес', 'Длительность',\n",
        "               'Акционные_покупки', 'Средний_просмотр_категорий_за_визит',\n",
        "               'Неоплаченные_продукты_штук_квартал', 'Ошибка_сервиса', 'Выручка',\n",
        "               'Страниц_за_визит', 'минут']"
      ],
      "metadata": {
        "trusted": true,
        "id": "iUC7nNyivlCC"
      },
      "execution_count": null,
      "outputs": []
    },
    {
      "cell_type": "code",
      "source": [
        "# создаём общий пайплайн для подготовки данных\n",
        "data_preprocessor = ColumnTransformer([\n",
        "    ('ohe', OneHotEncoder(drop='first', handle_unknown='error'), ohe_columns),\n",
        "    ('ord', OrdinalEncoder(), ord_columns),\n",
        "    ('num', StandardScaler(), num_columns)\n",
        "], remainder='passthrough')\n",
        "\n",
        "# создаём итоговый пайплайн: подготовка данных и модель\n",
        "pipe_final = Pipeline([\n",
        "    ('preprocessor', data_preprocessor),\n",
        "    ('models', DecisionTreeClassifier(random_state=RANDOM_STATE))\n",
        "])\n",
        "\n",
        "param_grid = [\n",
        "    # словарь для модели DecisionTreeClassifier()\n",
        "    {\n",
        "        'models': [DecisionTreeClassifier(random_state=RANDOM_STATE)],\n",
        "        'models__max_depth': range(2, 5),\n",
        "        'models__max_features': range(2, 5)\n",
        "    },\n",
        "    # словарь для модели KNeighborsClassifier()\n",
        "    {\n",
        "        'models': [KNeighborsClassifier()],\n",
        "        'models__n_neighbors': range(5, 100)\n",
        "    },\n",
        "\n",
        "    # словарь для модели LogisticRegression()\n",
        "    {\n",
        "        'models': [LogisticRegression(random_state=RANDOM_STATE)],\n",
        "        'models__C': [0.1, 1.0, 10.0, 100.0]\n",
        "    },\n",
        "    # словарь для модели SVC()\n",
        "    {\n",
        "        'models': [SVC(probability=True)],\n",
        "        'models__kernel': ['linear', 'rbf']\n",
        "    }\n",
        "]\n",
        "\n",
        "randomized_search = RandomizedSearchCV(\n",
        "    pipe_final,\n",
        "    param_grid,\n",
        "    cv=5,\n",
        "    scoring='roc_auc',\n",
        "    random_state=RANDOM_STATE,\n",
        "    n_jobs=-1\n",
        ")\n",
        "randomized_search.fit(X_train, y_train)\n",
        "\n",
        "print('Лучшая модель и её параметры:\\n\\n', randomized_search.best_estimator_)\n",
        "print ('Метрика лучшей модели на тренировочной выборке:', randomized_search.best_score_)\n",
        "\n",
        "# проверьте работу модели на тестовой выборке\n",
        "# рассчитайте прогноз на тестовых данных\n",
        "y_test_pred = randomized_search.predict_proba(X_test)\n",
        "print(f'Метрика ROC-AUC на тестовой выборке: {roc_auc_score(y_test, y_test_pred[:, 1])}')"
      ],
      "metadata": {
        "trusted": true,
        "id": "BSZGjTj6vlCD"
      },
      "execution_count": null,
      "outputs": []
    },
    {
      "cell_type": "markdown",
      "source": [
        "**Вывод:** Модель чудовищна хороша"
      ],
      "metadata": {
        "id": "hDeu-gXovlCD"
      }
    },
    {
      "cell_type": "markdown",
      "source": [
        "## Шаг 7. Анализ важности признаков"
      ],
      "metadata": {
        "id": "fbb1eh-GvlCD"
      }
    },
    {
      "cell_type": "markdown",
      "source": [
        "- *7.1 Оцените важность признаков для лучшей модели и постройте график важности с помощью метода SHAP.*\n",
        "- *7.2 Сделайте выводы о значимости признаков:*\n",
        "    - *какие признаки мало значимы для модели*\n",
        "    - *какие признаки сильнее всего влияют на целевой признак*\n",
        "    - *как можно использовать эти наблюдения при моделировании и принятии бизнес-решений*"
      ],
      "metadata": {
        "id": "jXBDt9FSvlCD"
      }
    },
    {
      "cell_type": "code",
      "source": [
        "COUNT = 10\n",
        "\n",
        "# Извлечение лучшей модели из результатов RandomizedSearchCV\n",
        "best_model = randomized_search.best_estimator_.named_steps['models']\n",
        "\n",
        "# Предобработка данных через пайплайн без конечной модели\n",
        "preprocessor = randomized_search.best_estimator_.named_steps['preprocessor']\n",
        "X_train_preprocessed = preprocessor.transform(X_train)\n",
        "X_test_preprocessed = preprocessor.transform(X_test)\n",
        "\n",
        "# Получаем имена признаков после OneHotEncoder\n",
        "ohe_feature_names = preprocessor.named_transformers_['ohe'].get_feature_names_out(input_features=ohe_columns)\n",
        "\n",
        "# Для OrdinalEncoder и StandardScaler мы можем использовать имена как есть\n",
        "ord_feature_names = ord_columns\n",
        "num_feature_names = num_columns\n",
        "\n",
        "# Объединяем все имена признаков в один список\n",
        "all_feature_names = np.concatenate([ohe_feature_names, ord_feature_names, num_feature_names])\n",
        "\n",
        "# Создаем DataFrame с соответствующими именами колонок\n",
        "X_train_preprocessed_df = pd.DataFrame(X_train_preprocessed, columns=all_feature_names)\n",
        "X_test_preprocessed_df = pd.DataFrame(X_test_preprocessed, columns=all_feature_names)\n",
        "\n",
        "# Семпл данных для KernelExplainer\n",
        "X_train_preprocessed_smpl = shap.sample(X_train_preprocessed_df, COUNT, random_state=RANDOM_STATE)\n",
        "X_test_preprocessed_smpl = shap.sample(X_test_preprocessed_df, COUNT, random_state=RANDOM_STATE)\n",
        "\n",
        "# Теперь, когда у нас есть DataFrame с именами признаков, мы можем использовать KernelExplainer\n",
        "explainer = shap.KernelExplainer(best_model.predict_proba, X_train_preprocessed_smpl)\n",
        "shap_values = explainer.shap_values(X_test_preprocessed_smpl)\n",
        "\n",
        "# Построение графика с именами признаков\n",
        "shap.summary_plot(shap_values, X_test_preprocessed_smpl)"
      ],
      "metadata": {
        "trusted": true,
        "id": "ws70fYcIvlCD"
      },
      "execution_count": null,
      "outputs": []
    },
    {
      "cell_type": "markdown",
      "source": [
        "## Шаг 8. Сегментация покупателей"
      ],
      "metadata": {
        "id": "qcEvFXQfvlCD"
      }
    },
    {
      "cell_type": "markdown",
      "source": [
        "- *8.1 Выполните сегментацию покупателей. Используйте результаты моделирования и данные о прибыльности покупателей.*\n",
        "- *8.2 Выберите группу покупателей и предложите, как увеличить её покупательскую активность:*\n",
        "    - *Проведите графическое и аналитическое исследование группы покупателей*\n",
        "    - *Сделайте предложения по работе с сегментом для увеличения покупательской активности*\n",
        "- *8.3 Сделайте выводы о сегментах:*\n",
        "    - *какой сегмент вы взяли для дополнительного исследования*\n",
        "    - *какие предложения вы сделали и почему*"
      ],
      "metadata": {
        "id": "0SoLUB_ZvlCD"
      }
    },
    {
      "cell_type": "code",
      "source": [
        "# Чтобы наверника\n",
        "threshold = 0.9\n",
        "\n",
        "# 8.1 Выполните сегментацию покупателей. Используйте результаты моделирования и данные о прибыльности покупателей.\n",
        "# Применим модель для всех данных\n",
        "best_model = randomized_search.best_estimator_\n",
        "predictions = best_model.predict_proba(X)[:, 1]\n",
        "prediction_flags = np.where(predictions > threshold, True, False)"
      ],
      "metadata": {
        "trusted": true,
        "id": "taJz_sfLvlCD"
      },
      "execution_count": null,
      "outputs": []
    },
    {
      "cell_type": "code",
      "source": [
        "# Выберем только те данные для которых модель предсказала снижение\n",
        "df_decline = df_full.loc[prediction_flags]\n",
        "\n",
        "# Добавить в эти данные инфу о прибыльности из таблицы money\n",
        "df_decline = df_decline.join(money, on='id')\n",
        "\n",
        "# Проверим что появился столбец\n",
        "df_decline.info()"
      ],
      "metadata": {
        "trusted": true,
        "id": "6WQAPTr1vlCD"
      },
      "execution_count": null,
      "outputs": []
    },
    {
      "cell_type": "code",
      "source": [
        "# 8.2 Выберите группу покупателей и предложите, как увеличить её покупательскую активность:\n",
        "#     - Проведите графическое и аналитическое исследование группы покупателей\n",
        "#     - Сделайте предложения по работе с сегментом для увеличения покупательской активности\n",
        "# У нас есть уже список параметров которые влияют на снижение покупательской активности.\n",
        "# Возьмем первые 5 и выделим группу на основе них\n",
        "# Акционные_покупки, минут, Страниц_за_визит, Средний_просмотр_категорий_за_визит, Популярная_категория\n",
        "\n",
        "plt.figure(figsize=(21, 7))\n",
        "\n",
        "plt.subplot(1, 3, 1)\n",
        "sns.histplot(df_decline['Акционные_покупки'], bins=10)\n",
        "plt.title('Акционные покупки')\n",
        "\n",
        "plt.subplot(1, 3, 2)\n",
        "sns.histplot(df_decline['минут'], bins=10)\n",
        "plt.title('Минут')\n",
        "\n",
        "plt.subplot(1, 3, 3)\n",
        "sns.histplot(df_decline['Страниц_за_визит'], bins=20)\n",
        "plt.title('Страница за визит')\n",
        "\n",
        "plt.tight_layout()\n",
        "plt.show()\n",
        "\n",
        "plt.figure(figsize=(20, 10))\n",
        "\n",
        "plt.subplot(1, 2, 1)\n",
        "sns.histplot(df_decline['Средний_просмотр_категорий_за_визит'], bins=10)\n",
        "plt.title('Средний просмотр категорий за визит')\n",
        "\n",
        "plt.subplot(1, 2, 2)\n",
        "sns.histplot(df_decline['Популярная_категория'], bins=10)\n",
        "plt.title('Популярная категория')\n",
        "plt.xticks(rotation=45)\n",
        "\n",
        "plt.tight_layout()\n",
        "plt.show()"
      ],
      "metadata": {
        "trusted": true,
        "id": "Ph687X21vlCE"
      },
      "execution_count": null,
      "outputs": []
    },
    {
      "cell_type": "markdown",
      "source": [
        "Я взял сегмент покупателей с параметрами которые сильнее всего влияют на снижение покупательской активности.\n",
        "\n",
        "На графиках видны следующие закономености:\n",
        "- Время проведенные на сайте, стрниц за визит и просмотр категорий ниже нормального распередения.\n",
        "- Виден выброс на графике с акционными товарами"
      ],
      "metadata": {
        "id": "OfeXOTYYvlCE"
      }
    },
    {
      "cell_type": "markdown",
      "source": [
        "## Шаг 9. Общий вывод"
      ],
      "metadata": {
        "id": "w1qfl3UcvlCE"
      }
    },
    {
      "cell_type": "markdown",
      "source": [
        "В начале проекта были поставлены следующие задачи\n",
        "- 1 - Построить модель для предсказания снижения покупательской активноски\n",
        "- 2 - Используя данные модели и данные о прибыльности клиентов, выделить сегменты покупателей и разработать для них персонализированные предложения.\n",
        "\n",
        "В качестве данных были предоставлены 4 таблицы\n",
        "- market_file.csv. Таблица с данными о поведении покупателя на сайте, о коммуникациях с покупателем и его продуктовом поведении.\n",
        "- market_money.csv. Таблица с данными о выручке, которую получает магазин с покупателя, то есть сколько покупатель всего потратил за период взаимодействия с сайтом.\n",
        "- market_time.csv. Таблица с данными о времени (в минутах), которое покупатель провёл на сайте в течение периода.\n",
        "- money.csv. Таблица с данными о среднемесячной прибыли покупателя за последние 3 месяца: какую прибыль получает магазин от продаж каждому покупателю.\n",
        "\n",
        "Для посика лучшей модели были проделаны следующие шаги\n",
        "- 1 - изучены данные\n",
        "- 2 - обработаны пропуски и дубликаты\n",
        "- 3 - исследованы на качество, проверены на выбросы и аномалии\n",
        "- 4 - исследованы взаимосвязи количественных признаков с помощью корреляционного анализа\n",
        "- 4 - объединены данные чтобы у модели были больше признаков для обучения\n",
        "- 5 - настроенна автоматизация обучения с помощью пайпдайнов, в которых были обучены 2 типа моделей: линейные и на основе векторов\n",
        "- 6 - лучшая модель оказалась KNeighborsClassifier\n",
        "\n",
        "На основе выбранной модели был построен график с параметрами, которые сильнее всего влияют предсказание. На основе этих параметров был сделан вывод, что при снижении покупательской активности стоит акцентировать внимание пользователей на акционные товары в самых просматриваемых категориях."
      ],
      "metadata": {
        "id": "_N0TQpl9vlCE"
      }
    }
  ]
}