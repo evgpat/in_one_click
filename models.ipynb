{
  "metadata": {
    "kernelspec": {
      "language": "python",
      "display_name": "Python 3",
      "name": "python3"
    },
    "language_info": {
      "name": "python",
      "version": "3.10.13",
      "mimetype": "text/x-python",
      "codemirror_mode": {
        "name": "ipython",
        "version": 3
      },
      "pygments_lexer": "ipython3",
      "nbconvert_exporter": "python",
      "file_extension": ".py"
    },
    "kaggle": {
      "accelerator": "none",
      "dataSources": [
        {
          "sourceId": 7524063,
          "sourceType": "datasetVersion",
          "datasetId": 4382847
        }
      ],
      "dockerImageVersionId": 30646,
      "isInternetEnabled": true,
      "language": "python",
      "sourceType": "notebook",
      "isGpuEnabled": false
    },
    "colab": {
      "provenance": []
    }
  },
  "nbformat_minor": 0,
  "nbformat": 4,
  "cells": [
    {
      "cell_type": "markdown",
      "source": [
        "## Описание проекта\n",
        "Интернет-магазин «В один клик» продаёт разные товары: для детей, для дома, мелкую бытовую технику, косметику и даже продукты. Отчёт магазина за прошлый период показал, что активность покупателей начала снижаться. Привлекать новых клиентов уже не так эффективно: о магазине и так знает большая часть целевой аудитории. Возможный выход — удерживать активность постоянных клиентов. Сделать это можно с помощью персонализированных предложений."
      ],
      "metadata": {
        "id": "-eNOBet91JoG"
      }
    },
    {
      "cell_type": "markdown",
      "source": [
        "## Импорт библиотек"
      ],
      "metadata": {
        "id": "0Zvl0obJ1JoH"
      }
    },
    {
      "cell_type": "code",
      "source": [
        "import pandas as pd\n",
        "import matplotlib.pyplot as plt\n",
        "import seaborn as sns\n",
        "import numpy as np\n",
        "import warnings\n",
        "import shap\n",
        "\n",
        "from sklearn.model_selection import train_test_split\n",
        "from sklearn.metrics import accuracy_score\n",
        "from sklearn.pipeline import Pipeline\n",
        "from sklearn.compose import ColumnTransformer\n",
        "from sklearn.preprocessing import OneHotEncoder, OrdinalEncoder, StandardScaler, MinMaxScaler, LabelEncoder\n",
        "from sklearn.impute import SimpleImputer\n",
        "from phik.report import plot_correlation_matrix\n",
        "from phik import phik_matrix\n",
        "\n",
        "warnings.filterwarnings(\"ignore\", category=FutureWarning)\n",
        "\n",
        "# загружаем нужные модели\n",
        "from sklearn.linear_model import LogisticRegression\n",
        "from sklearn.neighbors import KNeighborsClassifier\n",
        "from sklearn.tree import DecisionTreeClassifier\n",
        "from sklearn.svm import SVC\n",
        "\n",
        "# загружаем функцию для работы с метриками\n",
        "from sklearn.metrics import roc_auc_score\n",
        "\n",
        "from sklearn.model_selection import RandomizedSearchCV, GridSearchCV"
      ],
      "metadata": {
        "execution": {
          "iopub.status.busy": "2024-02-07T21:28:09.792468Z",
          "iopub.execute_input": "2024-02-07T21:28:09.792904Z",
          "iopub.status.idle": "2024-02-07T21:28:09.803566Z",
          "shell.execute_reply.started": "2024-02-07T21:28:09.792869Z",
          "shell.execute_reply": "2024-02-07T21:28:09.802327Z"
        },
        "trusted": true,
        "id": "5R8Y7-kV1JoH"
      },
      "execution_count": null,
      "outputs": []
    },
    {
      "cell_type": "markdown",
      "source": [
        "## Константы"
      ],
      "metadata": {
        "id": "f_veItn-1JoI"
      }
    },
    {
      "cell_type": "code",
      "source": [
        "RANDOM_STATE = 42\n",
        "TEST_SIZE = 0.25"
      ],
      "metadata": {
        "execution": {
          "iopub.status.busy": "2024-02-07T21:28:09.809388Z",
          "iopub.execute_input": "2024-02-07T21:28:09.809784Z",
          "iopub.status.idle": "2024-02-07T21:28:09.832572Z",
          "shell.execute_reply.started": "2024-02-07T21:28:09.809752Z",
          "shell.execute_reply": "2024-02-07T21:28:09.831382Z"
        },
        "trusted": true,
        "id": "IxYu80Wg1JoI"
      },
      "execution_count": null,
      "outputs": []
    },
    {
      "cell_type": "markdown",
      "source": [
        "## Шаг 1. Загрузка данных"
      ],
      "metadata": {
        "id": "6U1GtMqO1JoI"
      }
    },
    {
      "cell_type": "markdown",
      "source": [
        "- *1.1 Загрузите данные.*\n",
        "- *1.2 Проверьте, что данные в таблицах соответствуют описанию. Исследованием и объединением данных вы займётесь позже.*"
      ],
      "metadata": {
        "id": "iXIDNv5m1JoJ"
      }
    },
    {
      "cell_type": "code",
      "source": [
        "market_file = pd.read_csv('datasets/market_file.csv')\n",
        "market_money = pd.read_csv('datasets/market_money.csv')\n",
        "market_time = pd.read_csv('datasets/market_time.csv')\n",
        "money = pd.read_csv('datasets/money.csv', sep=\";\", decimal=\",\")"
      ],
      "metadata": {
        "execution": {
          "iopub.status.busy": "2024-02-07T21:28:09.835392Z",
          "iopub.execute_input": "2024-02-07T21:28:09.835835Z",
          "iopub.status.idle": "2024-02-07T21:28:09.881152Z",
          "shell.execute_reply.started": "2024-02-07T21:28:09.835798Z",
          "shell.execute_reply": "2024-02-07T21:28:09.880038Z"
        },
        "trusted": true,
        "id": "wGbsoCwR1JoJ"
      },
      "execution_count": null,
      "outputs": []
    },
    {
      "cell_type": "code",
      "source": [
        "market_file.head()"
      ],
      "metadata": {
        "execution": {
          "iopub.status.busy": "2024-02-07T21:28:09.882798Z",
          "iopub.execute_input": "2024-02-07T21:28:09.883452Z",
          "iopub.status.idle": "2024-02-07T21:28:09.904587Z",
          "shell.execute_reply.started": "2024-02-07T21:28:09.883414Z",
          "shell.execute_reply": "2024-02-07T21:28:09.903519Z"
        },
        "trusted": true,
        "id": "byCJMUEq1JoJ"
      },
      "execution_count": null,
      "outputs": []
    },
    {
      "cell_type": "code",
      "source": [
        "market_file.info()"
      ],
      "metadata": {
        "execution": {
          "iopub.status.busy": "2024-02-07T21:28:09.907346Z",
          "iopub.execute_input": "2024-02-07T21:28:09.908023Z",
          "iopub.status.idle": "2024-02-07T21:28:09.926474Z",
          "shell.execute_reply.started": "2024-02-07T21:28:09.907982Z",
          "shell.execute_reply": "2024-02-07T21:28:09.925436Z"
        },
        "trusted": true,
        "id": "4Evaivi-1JoJ"
      },
      "execution_count": null,
      "outputs": []
    },
    {
      "cell_type": "code",
      "source": [
        "market_money.head()"
      ],
      "metadata": {
        "execution": {
          "iopub.status.busy": "2024-02-07T21:28:09.928052Z",
          "iopub.execute_input": "2024-02-07T21:28:09.928697Z",
          "iopub.status.idle": "2024-02-07T21:28:09.947967Z",
          "shell.execute_reply.started": "2024-02-07T21:28:09.928658Z",
          "shell.execute_reply": "2024-02-07T21:28:09.946782Z"
        },
        "trusted": true,
        "id": "yV5boX661JoK"
      },
      "execution_count": null,
      "outputs": []
    },
    {
      "cell_type": "code",
      "source": [
        "market_money.info()"
      ],
      "metadata": {
        "execution": {
          "iopub.status.busy": "2024-02-07T21:28:09.949825Z",
          "iopub.execute_input": "2024-02-07T21:28:09.950267Z",
          "iopub.status.idle": "2024-02-07T21:28:09.964533Z",
          "shell.execute_reply.started": "2024-02-07T21:28:09.950229Z",
          "shell.execute_reply": "2024-02-07T21:28:09.963174Z"
        },
        "trusted": true,
        "id": "0ifb_4kE1JoK"
      },
      "execution_count": null,
      "outputs": []
    },
    {
      "cell_type": "code",
      "source": [
        "market_time.head()"
      ],
      "metadata": {
        "execution": {
          "iopub.status.busy": "2024-02-07T21:28:09.966174Z",
          "iopub.execute_input": "2024-02-07T21:28:09.966619Z",
          "iopub.status.idle": "2024-02-07T21:28:09.982576Z",
          "shell.execute_reply.started": "2024-02-07T21:28:09.966581Z",
          "shell.execute_reply": "2024-02-07T21:28:09.981329Z"
        },
        "trusted": true,
        "id": "d90h1Y-R1JoK"
      },
      "execution_count": null,
      "outputs": []
    },
    {
      "cell_type": "code",
      "source": [
        "market_time.info()"
      ],
      "metadata": {
        "execution": {
          "iopub.status.busy": "2024-02-07T21:28:09.98433Z",
          "iopub.execute_input": "2024-02-07T21:28:09.984884Z",
          "iopub.status.idle": "2024-02-07T21:28:09.999325Z",
          "shell.execute_reply.started": "2024-02-07T21:28:09.984844Z",
          "shell.execute_reply": "2024-02-07T21:28:09.997859Z"
        },
        "trusted": true,
        "id": "0-OEKxCl1JoK"
      },
      "execution_count": null,
      "outputs": []
    },
    {
      "cell_type": "code",
      "source": [
        "money.head()"
      ],
      "metadata": {
        "execution": {
          "iopub.status.busy": "2024-02-07T21:28:10.003176Z",
          "iopub.execute_input": "2024-02-07T21:28:10.003788Z",
          "iopub.status.idle": "2024-02-07T21:28:10.017536Z",
          "shell.execute_reply.started": "2024-02-07T21:28:10.003746Z",
          "shell.execute_reply": "2024-02-07T21:28:10.016687Z"
        },
        "trusted": true,
        "id": "G5zuhNun1JoK"
      },
      "execution_count": null,
      "outputs": []
    },
    {
      "cell_type": "code",
      "source": [
        "money.info()"
      ],
      "metadata": {
        "execution": {
          "iopub.status.busy": "2024-02-07T21:28:10.019309Z",
          "iopub.execute_input": "2024-02-07T21:28:10.020022Z",
          "iopub.status.idle": "2024-02-07T21:28:10.03257Z",
          "shell.execute_reply.started": "2024-02-07T21:28:10.019982Z",
          "shell.execute_reply": "2024-02-07T21:28:10.031691Z"
        },
        "trusted": true,
        "id": "PtKLyslv1JoK"
      },
      "execution_count": null,
      "outputs": []
    },
    {
      "cell_type": "markdown",
      "source": [
        "**Вывод**\n",
        "* Данные соответствуют описанию\n",
        "* В данных отсутствуют пропуски"
      ],
      "metadata": {
        "id": "ssXYIXc_1JoK"
      }
    },
    {
      "cell_type": "markdown",
      "source": [
        "## Шаг 2. Предобработка данных"
      ],
      "metadata": {
        "id": "86Fku7-U1JoL"
      }
    },
    {
      "cell_type": "markdown",
      "source": [
        "*Проведите необходимую предобработку данных. Названия столбцов можно оставить кириллическими.*"
      ],
      "metadata": {
        "id": "g7OJeqKB1JoL"
      }
    },
    {
      "cell_type": "markdown",
      "source": [
        "Определим функцию для удобства анализа"
      ],
      "metadata": {
        "id": "L1YeRa8u1JoL"
      }
    },
    {
      "cell_type": "code",
      "source": [
        "def extended_dataframe_analysis(df):\n",
        "    \"\"\"\n",
        "    Предоставляет расширенную первичную информацию по таблице данных.\n",
        "\n",
        "    :param df: DataFrame для анализа.\n",
        "    :return: Словарь с ключевой информацией.\n",
        "    \"\"\"\n",
        "    analysis = {}\n",
        "\n",
        "    # Пропущенные значения\n",
        "    missing_values = df.isnull().sum()\n",
        "    missing_percent = (missing_values / len(df)) * 100\n",
        "    analysis['missing_values'] = pd.DataFrame({'count': missing_values, 'percentage': missing_percent})\n",
        "\n",
        "    # Количество дубликатов строк\n",
        "    analysis['duplicates'] = df.duplicated().sum()\n",
        "\n",
        "    # Информация по категориальным столбцам\n",
        "    categorical_cols = df.select_dtypes(include=['object', 'category']).columns\n",
        "    categories_info = {col: {'unique_count': df[col].nunique(), 'unique_values': df[col].unique()} for col in categorical_cols}\n",
        "    analysis['categories_info'] = categories_info\n",
        "\n",
        "    return analysis"
      ],
      "metadata": {
        "execution": {
          "iopub.status.busy": "2024-02-07T21:28:10.034378Z",
          "iopub.execute_input": "2024-02-07T21:28:10.03503Z",
          "iopub.status.idle": "2024-02-07T21:28:10.04419Z",
          "shell.execute_reply.started": "2024-02-07T21:28:10.034991Z",
          "shell.execute_reply": "2024-02-07T21:28:10.043072Z"
        },
        "trusted": true,
        "id": "EHnOgSsX1JoL"
      },
      "execution_count": null,
      "outputs": []
    },
    {
      "cell_type": "code",
      "source": [
        "def fancy_info_output(info):\n",
        "    \"\"\"\n",
        "    Показывает в консоли информацию о категориальных значениях по каждому параметру\n",
        "\n",
        "    :param info: словарь\n",
        "    \"\"\"\n",
        "    for category in info:\n",
        "        print(category, '=>', info[category]['unique_count'])\n",
        "        for value in info[category]['unique_values']:\n",
        "            print('-', value)"
      ],
      "metadata": {
        "execution": {
          "iopub.status.busy": "2024-02-07T21:28:10.048325Z",
          "iopub.execute_input": "2024-02-07T21:28:10.048806Z",
          "iopub.status.idle": "2024-02-07T21:28:10.060277Z",
          "shell.execute_reply.started": "2024-02-07T21:28:10.048775Z",
          "shell.execute_reply": "2024-02-07T21:28:10.059406Z"
        },
        "trusted": true,
        "id": "ZYlvTny91JoL"
      },
      "execution_count": null,
      "outputs": []
    },
    {
      "cell_type": "code",
      "source": [
        "market_file_analysis = extended_dataframe_analysis(market_file)\n",
        "market_money_analysis = extended_dataframe_analysis(market_money)\n",
        "market_time_analysis = extended_dataframe_analysis(market_time)\n",
        "money_analysis = extended_dataframe_analysis(money)"
      ],
      "metadata": {
        "execution": {
          "iopub.status.busy": "2024-02-07T21:28:10.06194Z",
          "iopub.execute_input": "2024-02-07T21:28:10.062644Z",
          "iopub.status.idle": "2024-02-07T21:28:10.089349Z",
          "shell.execute_reply.started": "2024-02-07T21:28:10.062603Z",
          "shell.execute_reply": "2024-02-07T21:28:10.08813Z"
        },
        "trusted": true,
        "id": "DNxAUurG1JoL"
      },
      "execution_count": null,
      "outputs": []
    },
    {
      "cell_type": "code",
      "source": [
        "market_file.shape"
      ],
      "metadata": {
        "execution": {
          "iopub.status.busy": "2024-02-07T21:28:10.091949Z",
          "iopub.execute_input": "2024-02-07T21:28:10.092688Z",
          "iopub.status.idle": "2024-02-07T21:28:10.100558Z",
          "shell.execute_reply.started": "2024-02-07T21:28:10.092648Z",
          "shell.execute_reply": "2024-02-07T21:28:10.099518Z"
        },
        "trusted": true,
        "id": "yC4gmW1Q1JoL"
      },
      "execution_count": null,
      "outputs": []
    },
    {
      "cell_type": "code",
      "source": [
        "market_file.dtypes"
      ],
      "metadata": {
        "execution": {
          "iopub.status.busy": "2024-02-07T21:28:10.10445Z",
          "iopub.execute_input": "2024-02-07T21:28:10.10489Z",
          "iopub.status.idle": "2024-02-07T21:28:10.115056Z",
          "shell.execute_reply.started": "2024-02-07T21:28:10.104858Z",
          "shell.execute_reply": "2024-02-07T21:28:10.113965Z"
        },
        "trusted": true,
        "id": "1NT7Cr7P1JoL"
      },
      "execution_count": null,
      "outputs": []
    },
    {
      "cell_type": "code",
      "source": [
        "market_file_analysis['missing_values']"
      ],
      "metadata": {
        "execution": {
          "iopub.status.busy": "2024-02-07T21:28:10.116722Z",
          "iopub.execute_input": "2024-02-07T21:28:10.11736Z",
          "iopub.status.idle": "2024-02-07T21:28:10.134188Z",
          "shell.execute_reply.started": "2024-02-07T21:28:10.117321Z",
          "shell.execute_reply": "2024-02-07T21:28:10.133116Z"
        },
        "trusted": true,
        "id": "EgWz7RIL1JoL"
      },
      "execution_count": null,
      "outputs": []
    },
    {
      "cell_type": "code",
      "source": [
        "fancy_info_output(market_file_analysis['categories_info'])"
      ],
      "metadata": {
        "execution": {
          "iopub.status.busy": "2024-02-07T21:28:10.135962Z",
          "iopub.execute_input": "2024-02-07T21:28:10.136767Z",
          "iopub.status.idle": "2024-02-07T21:28:10.146134Z",
          "shell.execute_reply.started": "2024-02-07T21:28:10.136724Z",
          "shell.execute_reply": "2024-02-07T21:28:10.14499Z"
        },
        "trusted": true,
        "id": "P4bl_gOu1JoL"
      },
      "execution_count": null,
      "outputs": []
    },
    {
      "cell_type": "code",
      "source": [
        "market_file_analysis['duplicates']"
      ],
      "metadata": {
        "execution": {
          "iopub.status.busy": "2024-02-07T21:28:10.147643Z",
          "iopub.execute_input": "2024-02-07T21:28:10.148352Z",
          "iopub.status.idle": "2024-02-07T21:28:10.16155Z",
          "shell.execute_reply.started": "2024-02-07T21:28:10.148313Z",
          "shell.execute_reply": "2024-02-07T21:28:10.160697Z"
        },
        "trusted": true,
        "id": "b108pSk41JoL"
      },
      "execution_count": null,
      "outputs": []
    },
    {
      "cell_type": "markdown",
      "source": [
        "После изучения данных из `market_file`, сделаем следующее:\n",
        "* Имена параметров в shake_case для консистентности\n",
        "* В значении параметра `Тип сервиса` исправим опечатку"
      ],
      "metadata": {
        "id": "GGaoddMd1JoM"
      }
    },
    {
      "cell_type": "code",
      "source": [
        "market_file = market_file.rename(columns={\n",
        "    'Покупательская активность': 'Покупательская_активность',\n",
        "    'Тип сервиса': 'Тип_сервиса',\n",
        "    'Разрешить сообщать': 'Разрешить_сообщать'\n",
        "})"
      ],
      "metadata": {
        "execution": {
          "iopub.status.busy": "2024-02-07T21:28:10.164402Z",
          "iopub.execute_input": "2024-02-07T21:28:10.165325Z",
          "iopub.status.idle": "2024-02-07T21:28:10.172584Z",
          "shell.execute_reply.started": "2024-02-07T21:28:10.165294Z",
          "shell.execute_reply": "2024-02-07T21:28:10.171548Z"
        },
        "trusted": true,
        "id": "RDGsRMdm1JoM"
      },
      "execution_count": null,
      "outputs": []
    },
    {
      "cell_type": "code",
      "source": [
        "market_file.loc[market_file['Тип_сервиса'] == 'стандартт', 'Тип_сервиса'] = 'стандарт'"
      ],
      "metadata": {
        "execution": {
          "iopub.status.busy": "2024-02-07T21:28:10.174082Z",
          "iopub.execute_input": "2024-02-07T21:28:10.175101Z",
          "iopub.status.idle": "2024-02-07T21:28:10.188473Z",
          "shell.execute_reply.started": "2024-02-07T21:28:10.175061Z",
          "shell.execute_reply": "2024-02-07T21:28:10.187483Z"
        },
        "trusted": true,
        "id": "RsgnolVG1JoM"
      },
      "execution_count": null,
      "outputs": []
    },
    {
      "cell_type": "code",
      "source": [
        "market_money.shape"
      ],
      "metadata": {
        "execution": {
          "iopub.status.busy": "2024-02-07T21:28:10.189725Z",
          "iopub.execute_input": "2024-02-07T21:28:10.190862Z",
          "iopub.status.idle": "2024-02-07T21:28:10.200757Z",
          "shell.execute_reply.started": "2024-02-07T21:28:10.190821Z",
          "shell.execute_reply": "2024-02-07T21:28:10.199769Z"
        },
        "trusted": true,
        "id": "kS2rbp9e1JoM"
      },
      "execution_count": null,
      "outputs": []
    },
    {
      "cell_type": "code",
      "source": [
        "market_money.dtypes"
      ],
      "metadata": {
        "execution": {
          "iopub.status.busy": "2024-02-07T21:28:10.203377Z",
          "iopub.execute_input": "2024-02-07T21:28:10.204306Z",
          "iopub.status.idle": "2024-02-07T21:28:10.212981Z",
          "shell.execute_reply.started": "2024-02-07T21:28:10.204263Z",
          "shell.execute_reply": "2024-02-07T21:28:10.212014Z"
        },
        "trusted": true,
        "id": "5jAGHIsm1JoM"
      },
      "execution_count": null,
      "outputs": []
    },
    {
      "cell_type": "code",
      "source": [
        "market_money_analysis['missing_values']"
      ],
      "metadata": {
        "execution": {
          "iopub.status.busy": "2024-02-07T21:28:10.214244Z",
          "iopub.execute_input": "2024-02-07T21:28:10.214759Z",
          "iopub.status.idle": "2024-02-07T21:28:10.231772Z",
          "shell.execute_reply.started": "2024-02-07T21:28:10.214725Z",
          "shell.execute_reply": "2024-02-07T21:28:10.230631Z"
        },
        "trusted": true,
        "id": "1RGgqb4t1JoM"
      },
      "execution_count": null,
      "outputs": []
    },
    {
      "cell_type": "code",
      "source": [
        "fancy_info_output(market_money_analysis['categories_info'])"
      ],
      "metadata": {
        "execution": {
          "iopub.status.busy": "2024-02-07T21:28:10.233776Z",
          "iopub.execute_input": "2024-02-07T21:28:10.234341Z",
          "iopub.status.idle": "2024-02-07T21:28:10.245245Z",
          "shell.execute_reply.started": "2024-02-07T21:28:10.234301Z",
          "shell.execute_reply": "2024-02-07T21:28:10.244162Z"
        },
        "trusted": true,
        "id": "wVUtfdO41JoM"
      },
      "execution_count": null,
      "outputs": []
    },
    {
      "cell_type": "code",
      "source": [
        "market_money_analysis['duplicates']"
      ],
      "metadata": {
        "execution": {
          "iopub.status.busy": "2024-02-07T21:28:10.24701Z",
          "iopub.execute_input": "2024-02-07T21:28:10.24764Z",
          "iopub.status.idle": "2024-02-07T21:28:10.257924Z",
          "shell.execute_reply.started": "2024-02-07T21:28:10.247609Z",
          "shell.execute_reply": "2024-02-07T21:28:10.256929Z"
        },
        "trusted": true,
        "id": "27m3Lflr1JoM"
      },
      "execution_count": null,
      "outputs": []
    },
    {
      "cell_type": "markdown",
      "source": [
        "После изучения данных из `market_money` видим что в значении параметра `Период` есть опечатка. Исправим её."
      ],
      "metadata": {
        "id": "pKkS_ii51JoM"
      }
    },
    {
      "cell_type": "code",
      "source": [
        "market_money.loc[market_money['Период'] == 'препредыдущий_месяц', 'Период'] = 'предыдущий_месяц'"
      ],
      "metadata": {
        "execution": {
          "iopub.status.busy": "2024-02-07T21:28:10.260413Z",
          "iopub.execute_input": "2024-02-07T21:28:10.26107Z",
          "iopub.status.idle": "2024-02-07T21:28:10.269665Z",
          "shell.execute_reply.started": "2024-02-07T21:28:10.261039Z",
          "shell.execute_reply": "2024-02-07T21:28:10.268452Z"
        },
        "trusted": true,
        "id": "MpS-fAc21JoM"
      },
      "execution_count": null,
      "outputs": []
    },
    {
      "cell_type": "code",
      "source": [
        "market_time.shape"
      ],
      "metadata": {
        "trusted": true,
        "id": "hqSMpIYx1JoM"
      },
      "execution_count": null,
      "outputs": []
    },
    {
      "cell_type": "code",
      "source": [
        "market_time.dtypes"
      ],
      "metadata": {
        "trusted": true,
        "id": "b_lHYG2u1JoN"
      },
      "execution_count": null,
      "outputs": []
    },
    {
      "cell_type": "code",
      "source": [
        "market_time_analysis['missing_values']"
      ],
      "metadata": {
        "trusted": true,
        "id": "Cr0or1Qd1JoN"
      },
      "execution_count": null,
      "outputs": []
    },
    {
      "cell_type": "code",
      "source": [
        "fancy_info_output(market_time_analysis['categories_info'])"
      ],
      "metadata": {
        "trusted": true,
        "id": "MP6mPfY41JoN"
      },
      "execution_count": null,
      "outputs": []
    },
    {
      "cell_type": "code",
      "source": [
        "market_time_analysis['duplicates']"
      ],
      "metadata": {
        "trusted": true,
        "id": "HlZ_ynlG1JoN"
      },
      "execution_count": null,
      "outputs": []
    },
    {
      "cell_type": "markdown",
      "source": [
        "После изучения данных из `market_time` видим что в значении параметра Период есть опечатка. Исправим её."
      ],
      "metadata": {
        "id": "LFNLoCTM1JoN"
      }
    },
    {
      "cell_type": "code",
      "source": [
        "market_time.loc[market_time['Период'] == 'предыдцщий_месяц', 'Период'] = 'предыдущий_месяц'"
      ],
      "metadata": {
        "trusted": true,
        "id": "vKlnAmnh1JoN"
      },
      "execution_count": null,
      "outputs": []
    },
    {
      "cell_type": "code",
      "source": [
        "money.shape"
      ],
      "metadata": {
        "trusted": true,
        "id": "MvZzxAma1JoN"
      },
      "execution_count": null,
      "outputs": []
    },
    {
      "cell_type": "code",
      "source": [
        "money.dtypes"
      ],
      "metadata": {
        "trusted": true,
        "id": "qKR0et0o1JoN"
      },
      "execution_count": null,
      "outputs": []
    },
    {
      "cell_type": "code",
      "source": [
        "money_analysis['missing_values']"
      ],
      "metadata": {
        "trusted": true,
        "id": "BuvEg31f1JoN"
      },
      "execution_count": null,
      "outputs": []
    },
    {
      "cell_type": "code",
      "source": [
        "money_analysis['duplicates']"
      ],
      "metadata": {
        "trusted": true,
        "id": "hndHzRcN1JoN"
      },
      "execution_count": null,
      "outputs": []
    },
    {
      "cell_type": "markdown",
      "source": [
        "**Вывод:**\n",
        "* пропущенных значений не обнаружено\n",
        "* дубликатов тоже в данных нет\n",
        "* типы все верные\n",
        "* приведены к общему виду имена параметров\n",
        "* исправлены опечатки"
      ],
      "metadata": {
        "id": "a84GvXOn1JoN"
      }
    },
    {
      "cell_type": "markdown",
      "source": [
        "## Шаг 3. Исследовательский анализ данных"
      ],
      "metadata": {
        "id": "0-mMZMq11JoO"
      }
    },
    {
      "cell_type": "markdown",
      "source": [
        "*Проведите исследовательский анализ данных из каждой таблицы. Отберите клиентов с покупательской активностью не менее трёх месяцев, то есть таких, которые что-либо покупали в этот период. Оформите выводы по результатам шага.*"
      ],
      "metadata": {
        "id": "jnZchw9-1JoO"
      }
    },
    {
      "cell_type": "markdown",
      "source": [
        "На данном шаге\n",
        "- изучим статистики всех таблиц и выбросы с помощью диаграммы \"ящик с усами\".\n",
        "- отберем клиентов с покупательской активностью не менее трёх месяцев\n",
        "\n"
      ],
      "metadata": {
        "id": "tP6K6Tdk1JoO"
      }
    },
    {
      "cell_type": "markdown",
      "source": [
        "Определим функции для построения диаграмм"
      ],
      "metadata": {
        "id": "YwxzRnVY1JoO"
      }
    },
    {
      "cell_type": "code",
      "source": [
        "def plot_histograms_boxplots(df):\n",
        "    \"\"\"\n",
        "    Строит гистограммы и ящики с усами для каждого количественного фактора в DataFrame.\n",
        "\n",
        "    :param df: DataFrame, содержащий данные\n",
        "    \"\"\"\n",
        "    # Выбор числовых столбцов\n",
        "    numeric_cols = df.select_dtypes(include=['number']).columns\n",
        "\n",
        "    # Установка размера фигуры\n",
        "    num_plots = len(numeric_cols)\n",
        "    plt.figure(figsize=(10, 5 * num_plots))\n",
        "\n",
        "    # Построение гистограмм и ящиков с усами для каждого числового столбца\n",
        "    for i, col in enumerate(numeric_cols):\n",
        "        # Гистограмма\n",
        "        plt.subplot(num_plots, 2, 2*i + 1)\n",
        "        df[col].hist(bins=15)\n",
        "        plt.title(f'Histogram of {col}')\n",
        "        plt.xlabel(col)\n",
        "        plt.ylabel('Frequency')\n",
        "\n",
        "        # Ящик с усами\n",
        "        plt.subplot(num_plots, 2, 2*i + 2)\n",
        "        df.boxplot(column=col)\n",
        "        plt.title(f'Box Plot of {col}')\n",
        "\n",
        "    plt.tight_layout()\n",
        "    plt.show()"
      ],
      "metadata": {
        "trusted": true,
        "id": "EP41BGsd1JoO"
      },
      "execution_count": null,
      "outputs": []
    },
    {
      "cell_type": "code",
      "source": [
        "def plot_countplots(df):\n",
        "    \"\"\"\n",
        "    Строит countplots для каждого категориального фактора в DataFrame.\n",
        "\n",
        "    :param df: DataFrame, содержащий данные.\n",
        "    \"\"\"\n",
        "    # Выбор категориальных столбцов\n",
        "    categorical_cols = df.select_dtypes(exclude=['number']).columns\n",
        "\n",
        "    # Установка размера фигуры\n",
        "    num_plots = len(categorical_cols)\n",
        "    plt.figure(figsize=(10, 5 * num_plots))\n",
        "\n",
        "    # Построение countplots для каждого категориального столбца\n",
        "    for i, col in enumerate(categorical_cols):\n",
        "        plt.subplot(num_plots, 1, i + 1)\n",
        "        sns.countplot(y=col, data=df)\n",
        "        plt.title(f'График {col}')\n",
        "        plt.xlabel(col)\n",
        "        plt.ylabel('Количество')\n",
        "\n",
        "    plt.tight_layout()\n",
        "    plt.show()"
      ],
      "metadata": {
        "trusted": true,
        "id": "GGw9CrgD1JoO"
      },
      "execution_count": null,
      "outputs": []
    },
    {
      "cell_type": "markdown",
      "source": [
        "Чтобы id не учитывались в анализе сделаем его индексом"
      ],
      "metadata": {
        "id": "pJOGGkcm1JoO"
      }
    },
    {
      "cell_type": "code",
      "source": [
        "market_file = market_file.set_index('id')\n",
        "market_money = market_money.set_index('id')\n",
        "market_time = market_time.set_index('id')\n",
        "money = money.set_index('id')"
      ],
      "metadata": {
        "trusted": true,
        "id": "P9lqQtmb1JoO"
      },
      "execution_count": null,
      "outputs": []
    },
    {
      "cell_type": "code",
      "source": [
        "market_file.describe()"
      ],
      "metadata": {
        "trusted": true,
        "id": "SLX63dDf1JoO"
      },
      "execution_count": null,
      "outputs": []
    },
    {
      "cell_type": "code",
      "source": [
        "plot_histograms_boxplots(market_file)"
      ],
      "metadata": {
        "trusted": true,
        "id": "xg6U17g91JoO"
      },
      "execution_count": null,
      "outputs": []
    },
    {
      "cell_type": "markdown",
      "source": [
        "Диаграмма для параметра `Маркет_актив_тек_мес` выглядит так потому что уникальных значений всего 3"
      ],
      "metadata": {
        "id": "xjRyvHwx1JoO"
      }
    },
    {
      "cell_type": "code",
      "source": [
        "market_file['Маркет_актив_тек_мес'].unique()"
      ],
      "metadata": {
        "trusted": true,
        "id": "IjPfg7K91JoO"
      },
      "execution_count": null,
      "outputs": []
    },
    {
      "cell_type": "markdown",
      "source": [
        "В параметрах `Маркет_актив_6_мес`, `Акционные_покупки`, `Неоплаченные_продукты_штук_квартал` присутствуют выбросы"
      ],
      "metadata": {
        "id": "u_JkbKeJ1JoP"
      }
    },
    {
      "cell_type": "code",
      "source": [
        "# Изучим распределение\n",
        "plot_countplots(market_file)"
      ],
      "metadata": {
        "trusted": true,
        "id": "pPHRTIzf1JoP"
      },
      "execution_count": null,
      "outputs": []
    },
    {
      "cell_type": "markdown",
      "source": [
        "В параметрах: `Тип_сервиса` и `Разрешить_сообщать` виден дисбаланс в значениях. Тажке он есть и в целевом признаке `Покупательская_активность`"
      ],
      "metadata": {
        "id": "uCj6YFXK1JoP"
      }
    },
    {
      "cell_type": "code",
      "source": [
        "market_money.describe()"
      ],
      "metadata": {
        "trusted": true,
        "id": "Gr77XO1U1JoP"
      },
      "execution_count": null,
      "outputs": []
    },
    {
      "cell_type": "code",
      "source": [
        "plot_histograms_boxplots(market_money)"
      ],
      "metadata": {
        "trusted": true,
        "id": "HxuRP-TH1JoP"
      },
      "execution_count": null,
      "outputs": []
    },
    {
      "cell_type": "markdown",
      "source": [
        "Диаграмму для параметра `Выручка` так \"сплющело\" из-за выброса, найдем и удалим его"
      ],
      "metadata": {
        "id": "o0Cgoy9l1JoP"
      }
    },
    {
      "cell_type": "code",
      "source": [
        "market_money.sort_values(by='Выручка', ascending=False).head()"
      ],
      "metadata": {
        "trusted": true,
        "id": "eMVMgxmU1JoP"
      },
      "execution_count": null,
      "outputs": []
    },
    {
      "cell_type": "code",
      "source": [
        "market_money = market_money[market_money['Выручка'] != 106862.2]\n",
        "plot_histograms_boxplots(market_money)"
      ],
      "metadata": {
        "trusted": true,
        "id": "j-1aN1YF1JoP"
      },
      "execution_count": null,
      "outputs": []
    },
    {
      "cell_type": "markdown",
      "source": [
        "Теперь значение 0, похоже на выброс, тоже удаляем"
      ],
      "metadata": {
        "id": "tzR5nscg1JoP"
      }
    },
    {
      "cell_type": "code",
      "source": [
        "market_money = market_money[market_money['Выручка'] != 0]\n",
        "plot_histograms_boxplots(market_money)"
      ],
      "metadata": {
        "trusted": true,
        "id": "JEQp2Rdh1JoP"
      },
      "execution_count": null,
      "outputs": []
    },
    {
      "cell_type": "code",
      "source": [
        "# Изучим распределение\n",
        "plot_countplots(market_money)"
      ],
      "metadata": {
        "trusted": true,
        "id": "bSWJLhPb1JoP"
      },
      "execution_count": null,
      "outputs": []
    },
    {
      "cell_type": "code",
      "source": [
        "market_time.describe()"
      ],
      "metadata": {
        "trusted": true,
        "id": "LWGu6KKW1JoP"
      },
      "execution_count": null,
      "outputs": []
    },
    {
      "cell_type": "code",
      "source": [
        "plot_histograms_boxplots(market_time)"
      ],
      "metadata": {
        "trusted": true,
        "id": "mrprxKHx1JoQ"
      },
      "execution_count": null,
      "outputs": []
    },
    {
      "cell_type": "markdown",
      "source": [
        "Тут всё гуд"
      ],
      "metadata": {
        "id": "PiWbF7jY1JoQ"
      }
    },
    {
      "cell_type": "code",
      "source": [
        "# Изучим распределение\n",
        "plot_countplots(market_time)"
      ],
      "metadata": {
        "trusted": true,
        "id": "5uqi9Gj11JoQ"
      },
      "execution_count": null,
      "outputs": []
    },
    {
      "cell_type": "markdown",
      "source": [
        "Такое бывает?!"
      ],
      "metadata": {
        "id": "TLJONIR51JoQ"
      }
    },
    {
      "cell_type": "code",
      "source": [
        "money.describe()"
      ],
      "metadata": {
        "trusted": true,
        "id": "w0HTeHY11JoQ"
      },
      "execution_count": null,
      "outputs": []
    },
    {
      "cell_type": "code",
      "source": [
        "plot_histograms_boxplots(money)"
      ],
      "metadata": {
        "trusted": true,
        "id": "0EXaGycZ1JoQ"
      },
      "execution_count": null,
      "outputs": []
    },
    {
      "cell_type": "markdown",
      "source": [
        "Параметр `Прибыль` имеет выбросы"
      ],
      "metadata": {
        "id": "ReaSVyaL1JoQ"
      }
    },
    {
      "cell_type": "markdown",
      "source": [
        "Чтобы отобрать пользователей с покупательской активностью не менее трёх месяцев можно просто взять пользователей из таблицы money. Данныя таблица как раз хранит данные о среднемесячной прибыли покупателя за последние 3 месяца. Так как в таблице нет значений равные 0 следовательно все пользователи совершали покупки в течении нужного срока"
      ],
      "metadata": {
        "id": "pmCgkoUZ1JoQ"
      }
    },
    {
      "cell_type": "markdown",
      "source": [
        "**Вывод**\n",
        "\n",
        "В данных присутствуют выбросы и наблюдается неравномерное распределение в данных."
      ],
      "metadata": {
        "id": "dk2PoQOp1JoQ"
      }
    },
    {
      "cell_type": "markdown",
      "source": [
        "## Шаг 4. Объединение таблиц"
      ],
      "metadata": {
        "id": "jiZ3Kvff1JoQ"
      }
    },
    {
      "cell_type": "markdown",
      "source": [
        "- *4.1 Объедините таблицы market_file.csv, market_money.csv, market_time.csv. Данные о прибыли из файла money.csv при моделировании вам не понадобятся.*\n",
        "- *4.2 Учитывайте, что данные о выручке и времени на сайте находятся в одном столбце для всех периодов. В итоговой таблице сделайте отдельный столбец для каждого периода.*"
      ],
      "metadata": {
        "id": "ef8W05CF1JoQ"
      }
    },
    {
      "cell_type": "markdown",
      "source": [
        "Перед тем как объядинять данные явно переименуем столблец `Период` в таблице `market_money` на `Период_деньги`, а `Период` в таблице `market_time` на `Период_время`"
      ],
      "metadata": {
        "id": "vQVSuNF01JoQ"
      }
    },
    {
      "cell_type": "code",
      "source": [
        "market_money.columns"
      ],
      "metadata": {
        "trusted": true,
        "id": "yO2Q6wEK1JoQ"
      },
      "execution_count": null,
      "outputs": []
    },
    {
      "cell_type": "code",
      "source": [
        "market_money = market_money.rename(columns={'Период': 'Период_деньги'})\n",
        "market_money.columns"
      ],
      "metadata": {
        "trusted": true,
        "id": "Hz5ROFnG1JoQ"
      },
      "execution_count": null,
      "outputs": []
    },
    {
      "cell_type": "code",
      "source": [
        "market_time.columns"
      ],
      "metadata": {
        "trusted": true,
        "id": "8hsHCuAs1JoR"
      },
      "execution_count": null,
      "outputs": []
    },
    {
      "cell_type": "code",
      "source": [
        "market_time = market_time.rename(columns={'Период': 'Период_время'})\n",
        "market_time.columns"
      ],
      "metadata": {
        "trusted": true,
        "id": "OrNx1icm1JoR"
      },
      "execution_count": null,
      "outputs": []
    },
    {
      "cell_type": "code",
      "source": [
        "df_full = market_file.join(market_money, on='id')\n",
        "df_full = df_full.join(market_time, on='id')"
      ],
      "metadata": {
        "trusted": true,
        "id": "MPl1YfCo1JoR"
      },
      "execution_count": null,
      "outputs": []
    },
    {
      "cell_type": "code",
      "source": [
        "df_full.head(20)"
      ],
      "metadata": {
        "trusted": true,
        "id": "wAbd_B0D1JoR"
      },
      "execution_count": null,
      "outputs": []
    },
    {
      "cell_type": "code",
      "source": [
        "df_full.shape"
      ],
      "metadata": {
        "trusted": true,
        "id": "DUD3aVKl1JoR"
      },
      "execution_count": null,
      "outputs": []
    },
    {
      "cell_type": "code",
      "source": [
        "df_full.info()"
      ],
      "metadata": {
        "trusted": true,
        "id": "tSx9oR061JoR"
      },
      "execution_count": null,
      "outputs": []
    },
    {
      "cell_type": "markdown",
      "source": [
        "**Вывод:** Кажется объединение прошло успешно. Типы в норме и нет NaN"
      ],
      "metadata": {
        "id": "2pwCxqir1JoR"
      }
    },
    {
      "cell_type": "markdown",
      "source": [
        "## Шаг 5. Корреляционный анализ"
      ],
      "metadata": {
        "id": "WwL3sAN-1JoR"
      }
    },
    {
      "cell_type": "markdown",
      "source": [
        "*Проведите корреляционный анализ признаков в количественной шкале в итоговой таблице для моделирования. Сделайте выводы о мультиколлинеарности и при необходимости устраните её.*"
      ],
      "metadata": {
        "id": "sbZ2IsJo1JoR"
      }
    },
    {
      "cell_type": "code",
      "source": [
        "sns.pairplot(df_full, hue='Покупательская_активность')\n",
        "\n",
        "plt.show()"
      ],
      "metadata": {
        "trusted": true,
        "id": "MLIrL4RR1JoR"
      },
      "execution_count": null,
      "outputs": []
    },
    {
      "cell_type": "code",
      "source": [
        "numeric_cols = df_full.select_dtypes(include=['number']).columns\n",
        "correlation_matrix = df_full[numeric_cols].corr(method='spearman')\n",
        "\n",
        "plt.figure(figsize=(10, 8))\n",
        "sns.heatmap(correlation_matrix, annot=True, cmap='coolwarm')\n",
        "plt.show()"
      ],
      "metadata": {
        "trusted": true,
        "id": "PGrr9LDY1JoR"
      },
      "execution_count": null,
      "outputs": []
    },
    {
      "cell_type": "markdown",
      "source": [
        "## Шаг 6. Использование пайплайнов"
      ],
      "metadata": {
        "id": "XkGDaKpi1JoR"
      }
    },
    {
      "cell_type": "markdown",
      "source": [
        "*Примените все изученные модели. Для этого используйте пайплайны.*\n",
        "\n",
        "- *6.1 Во время подготовки данных используйте ColumnTransformer. Количественные и категориальные признаки обработайте в пайплайне раздельно. Для кодирования категориальных признаков используйте как минимум два кодировщика, для масштабирования количественных — как минимум два скейлера.*\n",
        "\n",
        "*Напоминаем, что для каждой модели можно подготовить данные с разным кодированием и масштабированием.*\n",
        "\n",
        "- *6.2 Обучите четыре модели: KNeighborsClassifier(), DecisionTreeClassifier(), LogisticRegression() и  SVC(). Для каждой из них подберите как минимум один гиперпараметр. Выберите подходящую для задачи метрику, аргументируйте свой выбор. Используйте эту метрику при подборе гиперпараметров.*\n",
        "- *6.3 Выберите лучшую модель, используя заданную метрику. Для этого примените одну из стратегий:*\n",
        "    - *использовать пайплайны и инструменты подбора гиперпараметров для каждой модели отдельно, чтобы выбрать лучшую модель самостоятельно*\n",
        "    - *использовать один общий пайплайн для всех моделей и инструмент подбора гиперпараметров, который вернёт вам лучшую модель*"
      ],
      "metadata": {
        "id": "uI6qiXwP1JoS"
      }
    },
    {
      "cell_type": "code",
      "source": [
        "encoder = LabelEncoder()\n",
        "\n",
        "X = df_full.drop(['Покупательская_активность'], axis=1)\n",
        "y = encoder.fit_transform(df_full['Покупательская_активность'])"
      ],
      "metadata": {
        "trusted": true,
        "id": "F1QHjaku1JoS"
      },
      "execution_count": null,
      "outputs": []
    },
    {
      "cell_type": "code",
      "source": [
        "X_train, X_test, y_train, y_test = train_test_split(\n",
        "    X,\n",
        "    y,\n",
        "    test_size = TEST_SIZE,\n",
        "    random_state = RANDOM_STATE,\n",
        "    stratify = y)"
      ],
      "metadata": {
        "trusted": true,
        "id": "jQWxry_n1JoS"
      },
      "execution_count": null,
      "outputs": []
    },
    {
      "cell_type": "code",
      "source": [
        "ohe_columns = ['Тип_сервиса', 'Разрешить_сообщать', 'Период_деньги', 'Период_время']\n",
        "ord_columns = ['Популярная_категория']\n",
        "num_columns = ['Маркет_актив_6_мес', 'Маркет_актив_тек_мес', 'Длительность',\n",
        "               'Акционные_покупки', 'Средний_просмотр_категорий_за_визит',\n",
        "               'Неоплаченные_продукты_штук_квартал', 'Ошибка_сервиса', 'Выручка',\n",
        "               'Страниц_за_визит', 'минут']"
      ],
      "metadata": {
        "trusted": true,
        "id": "TK1G4Ixg1JoS"
      },
      "execution_count": null,
      "outputs": []
    },
    {
      "cell_type": "code",
      "source": [
        "# создаём общий пайплайн для подготовки данных\n",
        "data_preprocessor = ColumnTransformer([\n",
        "    ('ohe', OneHotEncoder(drop='first', handle_unknown='error'), ohe_columns),\n",
        "    ('ord', OrdinalEncoder(), ord_columns),\n",
        "    ('num', StandardScaler(), num_columns)\n",
        "], remainder='passthrough')\n",
        "\n",
        "# создаём итоговый пайплайн: подготовка данных и модель\n",
        "pipe_final = Pipeline([\n",
        "    ('preprocessor', data_preprocessor),\n",
        "    ('models', DecisionTreeClassifier(random_state=RANDOM_STATE))\n",
        "])\n",
        "\n",
        "param_grid = [\n",
        "    # словарь для модели DecisionTreeClassifier()\n",
        "    {\n",
        "        'models': [DecisionTreeClassifier(random_state=RANDOM_STATE)],\n",
        "        'models__max_depth': range(2, 5),\n",
        "        'models__max_features': range(2, 5)\n",
        "    },\n",
        "    # словарь для модели KNeighborsClassifier()\n",
        "    {\n",
        "        'models': [KNeighborsClassifier()],\n",
        "        'models__n_neighbors': range(5, 100)\n",
        "    },\n",
        "\n",
        "    # словарь для модели LogisticRegression()\n",
        "    {\n",
        "        'models': [LogisticRegression(random_state=RANDOM_STATE)],\n",
        "        'models__C': [0.1, 1.0, 10.0, 100.0]\n",
        "    },\n",
        "    # словарь для модели SVC()\n",
        "    {\n",
        "        'models': [SVC(probability=True)],\n",
        "        'models__kernel': ['linear', 'rbf']\n",
        "    }\n",
        "]\n",
        "\n",
        "randomized_search = RandomizedSearchCV(\n",
        "    pipe_final,\n",
        "    param_grid,\n",
        "    cv=5,\n",
        "    scoring='roc_auc',\n",
        "    random_state=RANDOM_STATE,\n",
        "    n_jobs=-1\n",
        ")\n",
        "randomized_search.fit(X_train, y_train)\n",
        "\n",
        "print('Лучшая модель и её параметры:\\n\\n', randomized_search.best_estimator_)\n",
        "print ('Метрика лучшей модели на тренировочной выборке:', randomized_search.best_score_)\n",
        "\n",
        "# проверьте работу модели на тестовой выборке\n",
        "# рассчитайте прогноз на тестовых данных\n",
        "y_test_pred = randomized_search.predict_proba(X_test)\n",
        "print(f'Метрика ROC-AUC на тестовой выборке: {roc_auc_score(y_test, y_test_pred[:, 1])}')"
      ],
      "metadata": {
        "trusted": true,
        "id": "wnpGEyRI1JoS"
      },
      "execution_count": null,
      "outputs": []
    },
    {
      "cell_type": "markdown",
      "source": [
        "**Вывод:** Модель чудовищна хороша"
      ],
      "metadata": {
        "id": "koFAlhiN1JoS"
      }
    },
    {
      "cell_type": "markdown",
      "source": [
        "## Шаг 7. Анализ важности признаков"
      ],
      "metadata": {
        "id": "9lo41tmA1JoS"
      }
    },
    {
      "cell_type": "markdown",
      "source": [
        "- *7.1 Оцените важность признаков для лучшей модели и постройте график важности с помощью метода SHAP.*\n",
        "- *7.2 Сделайте выводы о значимости признаков:*\n",
        "    - *какие признаки мало значимы для модели*\n",
        "    - *какие признаки сильнее всего влияют на целевой признак*\n",
        "    - *как можно использовать эти наблюдения при моделировании и принятии бизнес-решений*"
      ],
      "metadata": {
        "id": "RlnALvHw1JoS"
      }
    },
    {
      "cell_type": "code",
      "source": [
        "COUNT = 10\n",
        "\n",
        "# Извлечение лучшей модели из результатов RandomizedSearchCV\n",
        "best_model = randomized_search.best_estimator_.named_steps['models']\n",
        "\n",
        "# Предобработка данных через пайплайн без конечной модели\n",
        "preprocessor = randomized_search.best_estimator_.named_steps['preprocessor']\n",
        "X_train_preprocessed = preprocessor.transform(X_train)\n",
        "X_test_preprocessed = preprocessor.transform(X_test)\n",
        "\n",
        "# Получаем имена признаков после OneHotEncoder\n",
        "ohe_feature_names = preprocessor.named_transformers_['ohe'].get_feature_names_out(input_features=ohe_columns)\n",
        "\n",
        "# Для OrdinalEncoder и StandardScaler мы можем использовать имена как есть\n",
        "ord_feature_names = ord_columns\n",
        "num_feature_names = num_columns\n",
        "\n",
        "# Объединяем все имена признаков в один список\n",
        "all_feature_names = np.concatenate([ohe_feature_names, ord_feature_names, num_feature_names])\n",
        "\n",
        "# Создаем DataFrame с соответствующими именами колонок\n",
        "X_train_preprocessed_df = pd.DataFrame(X_train_preprocessed, columns=all_feature_names)\n",
        "X_test_preprocessed_df = pd.DataFrame(X_test_preprocessed, columns=all_feature_names)\n",
        "\n",
        "# Семпл данных для KernelExplainer\n",
        "X_train_preprocessed_smpl = shap.sample(X_train_preprocessed_df, COUNT, random_state=RANDOM_STATE)\n",
        "X_test_preprocessed_smpl = shap.sample(X_test_preprocessed_df, COUNT, random_state=RANDOM_STATE)\n",
        "\n",
        "# Теперь, когда у нас есть DataFrame с именами признаков, мы можем использовать KernelExplainer\n",
        "explainer = shap.KernelExplainer(best_model.predict_proba, X_train_preprocessed_smpl)\n",
        "shap_values = explainer.shap_values(X_test_preprocessed_smpl)\n",
        "\n",
        "# Построение графика с именами признаков\n",
        "shap.summary_plot(shap_values, X_test_preprocessed_smpl)"
      ],
      "metadata": {
        "trusted": true,
        "id": "1AIkPK6W1JoS"
      },
      "execution_count": null,
      "outputs": []
    },
    {
      "cell_type": "markdown",
      "source": [
        "## Шаг 8. Сегментация покупателей"
      ],
      "metadata": {
        "id": "dicPfBWB1JoT"
      }
    },
    {
      "cell_type": "markdown",
      "source": [
        "- *8.1 Выполните сегментацию покупателей. Используйте результаты моделирования и данные о прибыльности покупателей.*\n",
        "- *8.2 Выберите группу покупателей и предложите, как увеличить её покупательскую активность:*\n",
        "    - *Проведите графическое и аналитическое исследование группы покупателей*\n",
        "    - *Сделайте предложения по работе с сегментом для увеличения покупательской активности*\n",
        "- *8.3 Сделайте выводы о сегментах:*\n",
        "    - *какой сегмент вы взяли для дополнительного исследования*\n",
        "    - *какие предложения вы сделали и почему*"
      ],
      "metadata": {
        "id": "L6TlO2R61JoT"
      }
    },
    {
      "cell_type": "code",
      "source": [
        "# Чтобы наверника\n",
        "threshold = 0.9\n",
        "\n",
        "# 8.1 Выполните сегментацию покупателей. Используйте результаты моделирования и данные о прибыльности покупателей.\n",
        "# Применим модель для всех данных\n",
        "best_model = randomized_search.best_estimator_\n",
        "predictions = best_model.predict_proba(X)[:, 1]\n",
        "prediction_flags = np.where(predictions > threshold, True, False)"
      ],
      "metadata": {
        "trusted": true,
        "id": "cErxknyS1JoT"
      },
      "execution_count": null,
      "outputs": []
    },
    {
      "cell_type": "code",
      "source": [
        "# Выберем только те данные для которых модель предсказала снижение\n",
        "df_decline = df_full.loc[prediction_flags]\n",
        "\n",
        "# Добавить в эти данные инфу о прибыльности из таблицы money\n",
        "df_decline = df_decline.join(money, on='id')\n",
        "\n",
        "# Проверим что появился столбец\n",
        "df_decline.info()"
      ],
      "metadata": {
        "trusted": true,
        "id": "Z4oE7gDy1JoT"
      },
      "execution_count": null,
      "outputs": []
    },
    {
      "cell_type": "code",
      "source": [
        "# 8.2 Выберите группу покупателей и предложите, как увеличить её покупательскую активность:\n",
        "#     - Проведите графическое и аналитическое исследование группы покупателей\n",
        "#     - Сделайте предложения по работе с сегментом для увеличения покупательской активности\n",
        "# У нас есть уже список параметров которые влияют на снижение покупательской активности.\n",
        "# Возьмем первые 5 и выделим группу на основе них\n",
        "# Акционные_покупки, минут, Страниц_за_визит, Средний_просмотр_категорий_за_визит, Популярная_категория\n",
        "\n",
        "plt.figure(figsize=(21, 7))\n",
        "\n",
        "plt.subplot(1, 3, 1)\n",
        "sns.histplot(df_decline['Акционные_покупки'], bins=10)\n",
        "plt.title('Акционные покупки')\n",
        "\n",
        "plt.subplot(1, 3, 2)\n",
        "sns.histplot(df_decline['минут'], bins=10)\n",
        "plt.title('Минут')\n",
        "\n",
        "plt.subplot(1, 3, 3)\n",
        "sns.histplot(df_decline['Страниц_за_визит'], bins=20)\n",
        "plt.title('Страница за визит')\n",
        "\n",
        "plt.tight_layout()\n",
        "plt.show()\n",
        "\n",
        "plt.figure(figsize=(20, 10))\n",
        "\n",
        "plt.subplot(1, 2, 1)\n",
        "sns.histplot(df_decline['Средний_просмотр_категорий_за_визит'], bins=10)\n",
        "plt.title('Средний просмотр категорий за визит')\n",
        "\n",
        "plt.subplot(1, 2, 2)\n",
        "sns.histplot(df_decline['Популярная_категория'], bins=10)\n",
        "plt.title('Популярная категория')\n",
        "plt.xticks(rotation=45)\n",
        "\n",
        "plt.tight_layout()\n",
        "plt.show()"
      ],
      "metadata": {
        "trusted": true,
        "id": "TD5r2YQJ1JoT"
      },
      "execution_count": null,
      "outputs": []
    },
    {
      "cell_type": "markdown",
      "source": [
        "Я взял сегмент покупателей с параметрами которые сильнее всего влияют на снижение покупательской активности.\n",
        "\n",
        "На графиках видны следующие закономености:\n",
        "- Время проведенные на сайте, стрниц за визит и просмотр категорий ниже нормального распередения.\n",
        "- Виден выброс на графике с акционными товарами"
      ],
      "metadata": {
        "id": "t8tWmgyr1JoT"
      }
    },
    {
      "cell_type": "markdown",
      "source": [
        "## Шаг 9. Общий вывод"
      ],
      "metadata": {
        "id": "a1rGboth1JoT"
      }
    },
    {
      "cell_type": "markdown",
      "source": [
        "В начале проекта были поставлены следующие задачи\n",
        "- 1 - Построить модель для предсказания снижения покупательской активноски\n",
        "- 2 - Используя данные модели и данные о прибыльности клиентов, выделить сегменты покупателей и разработать для них персонализированные предложения.\n",
        "\n",
        "В качестве данных были предоставлены 4 таблицы\n",
        "- market_file.csv. Таблица с данными о поведении покупателя на сайте, о коммуникациях с покупателем и его продуктовом поведении.\n",
        "- market_money.csv. Таблица с данными о выручке, которую получает магазин с покупателя, то есть сколько покупатель всего потратил за период взаимодействия с сайтом.\n",
        "- market_time.csv. Таблица с данными о времени (в минутах), которое покупатель провёл на сайте в течение периода.\n",
        "- money.csv. Таблица с данными о среднемесячной прибыли покупателя за последние 3 месяца: какую прибыль получает магазин от продаж каждому покупателю.\n",
        "\n",
        "Для посика лучшей модели были проделаны следующие шаги\n",
        "- 1 - изучены данные\n",
        "- 2 - обработаны пропуски и дубликаты\n",
        "- 3 - исследованы на качество, проверены на выбросы и аномалии\n",
        "- 4 - исследованы взаимосвязи количественных признаков с помощью корреляционного анализа\n",
        "- 4 - объединены данные чтобы у модели были больше признаков для обучения\n",
        "- 5 - настроенна автоматизация обучения с помощью пайпдайнов, в которых были обучены 2 типа моделей: линейные и на основе векторов\n",
        "- 6 - лучшая модель оказалась KNeighborsClassifier\n",
        "\n",
        "На основе выбранной модели был построен график с параметрами, которые сильнее всего влияют предсказание. На основе этих параметров был сделан вывод, что при снижении покупательской активности стоит акцентировать внимание пользователей на акционные товары в самых просматриваемых категориях."
      ],
      "metadata": {
        "id": "YZe5tfSJ1JoT"
      }
    }
  ]
}